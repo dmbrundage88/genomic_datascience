{
  "nbformat": 4,
  "nbformat_minor": 0,
  "metadata": {
    "colab": {
      "name": "Algo_for_DNA_Sequencing_Week2.ipynb",
      "provenance": [],
      "authorship_tag": "ABX9TyOHAxwQNKbTJ5g1YtWetlkm",
      "include_colab_link": true
    },
    "kernelspec": {
      "name": "python3",
      "display_name": "Python 3"
    }
  },
  "cells": [
    {
      "cell_type": "markdown",
      "metadata": {
        "id": "view-in-github",
        "colab_type": "text"
      },
      "source": [
        "<a href=\"https://colab.research.google.com/github/dmbrundage88/genomic_datascience/blob/main/Algo_for_DNA_Sequencing_Week2.ipynb\" target=\"_parent\"><img src=\"https://colab.research.google.com/assets/colab-badge.svg\" alt=\"Open In Colab\"/></a>"
      ]
    },
    {
      "cell_type": "code",
      "metadata": {
        "id": "cDnsv0NRH-Nz"
      },
      "source": [
        "#HelperFuntion\n",
        "#Boyer Moore\n",
        "def boyer_moore(p, p_bm, t):\n",
        "    \"\"\" Do Boyer-Moore matching. p=pattern, t=text,\n",
        "        p_bm=BoyerMoore object for p \"\"\"\n",
        "    i = 0\n",
        "    occurrences = []\n",
        "    while i < len(t) - len(p) + 1:\n",
        "        shift = 1\n",
        "        mismatched = False\n",
        "        for j in range(len(p)-1, -1, -1):\n",
        "            if p[j] != t[i+j]:\n",
        "                skip_bc = p_bm.bad_character_rule(j, t[i+j])\n",
        "                skip_gs = p_bm.good_suffix_rule(j)\n",
        "                shift = max(shift, skip_bc, skip_gs)\n",
        "                mismatched = True\n",
        "                break\n",
        "        if not mismatched:\n",
        "            occurrences.append(i)\n",
        "            skip_gs = p_bm.match_skip()\n",
        "            shift = max(shift, skip_gs)\n",
        "        i += shift\n",
        "    return occurrences\n",
        "\n",
        "#Naive Exact Matching Algo\n",
        "def naive(p, t):\n",
        "    occurrences = []\n",
        "    for i in range(len(t) - len(p) + 1):  # loop over alignments\n",
        "        match = True\n",
        "        for j in range(len(p)):  # loop over characters\n",
        "            if t[i+j] != p[j]:  # compare characters\n",
        "                match = False\n",
        "                break\n",
        "        if match:\n",
        "            occurrences.append(i)  # all chars matched; record\n",
        "    return occurrences\n",
        "#Find Reverse Compliment\n",
        "def reverseComplement(s):\n",
        "    complement = {'A': 'T', 'C': 'G', 'G': 'C', 'T': 'A', 'N': 'N'}\n",
        "    t = ''\n",
        "    for base in s:\n",
        "        t = complement[base] + t\n",
        "    return t\n",
        "#Read FastA format\n",
        "def readGenome(filename):\n",
        "    genome = ''\n",
        "    with open(filename, 'r') as f:\n",
        "        for line in f:\n",
        "            # ignore header line with genome information\n",
        "            if not line[0] == '>':\n",
        "                genome += line.rstrip()\n",
        "    return genome"
      ],
      "execution_count": 3,
      "outputs": []
    },
    {
      "cell_type": "code",
      "metadata": {
        "id": "yd9MjJIS8oWk",
        "outputId": "aace57dc-1fe2-4203-cf0f-5bd1040cc605",
        "colab": {
          "base_uri": "https://localhost:8080/",
          "height": 589
        }
      },
      "source": [
        "#get module for Boyer Moore preprocessing and fasta data\n",
        "!wget http://d28rh4a8wq0iu5.cloudfront.net/ads1/code/bm_preproc.py\n",
        "!wget http://d28rh4a8wq0iu5.cloudfront.net/ads1/data/chr1.GRCh38.excerpt.fasta\n",
        "!wget https://d28rh4a8wq0iu5.cloudfront.net/ads1/code/kmer_index.py"
      ],
      "execution_count": 28,
      "outputs": [
        {
          "output_type": "stream",
          "text": [
            "--2020-10-14 16:55:37--  http://d28rh4a8wq0iu5.cloudfront.net/ads1/code/bm_preproc.py\n",
            "Resolving d28rh4a8wq0iu5.cloudfront.net (d28rh4a8wq0iu5.cloudfront.net)... 54.230.85.146, 54.230.85.88, 54.230.85.98, ...\n",
            "Connecting to d28rh4a8wq0iu5.cloudfront.net (d28rh4a8wq0iu5.cloudfront.net)|54.230.85.146|:80... connected.\n",
            "HTTP request sent, awaiting response... 200 OK\n",
            "Length: 9400 (9.2K) [application/octet-stream]\n",
            "Saving to: ‘bm_preproc.py.1’\n",
            "\n",
            "bm_preproc.py.1     100%[===================>]   9.18K  --.-KB/s    in 0s      \n",
            "\n",
            "2020-10-14 16:55:38 (182 MB/s) - ‘bm_preproc.py.1’ saved [9400/9400]\n",
            "\n",
            "--2020-10-14 16:55:38--  http://d28rh4a8wq0iu5.cloudfront.net/ads1/data/chr1.GRCh38.excerpt.fasta\n",
            "Resolving d28rh4a8wq0iu5.cloudfront.net (d28rh4a8wq0iu5.cloudfront.net)... 54.230.85.98, 54.230.85.8, 54.230.85.146, ...\n",
            "Connecting to d28rh4a8wq0iu5.cloudfront.net (d28rh4a8wq0iu5.cloudfront.net)|54.230.85.98|:80... connected.\n",
            "HTTP request sent, awaiting response... 200 OK\n",
            "Length: 810105 (791K) [application/octet-stream]\n",
            "Saving to: ‘chr1.GRCh38.excerpt.fasta.1’\n",
            "\n",
            "chr1.GRCh38.excerpt 100%[===================>] 791.12K  --.-KB/s    in 0.06s   \n",
            "\n",
            "2020-10-14 16:55:39 (12.0 MB/s) - ‘chr1.GRCh38.excerpt.fasta.1’ saved [810105/810105]\n",
            "\n",
            "--2020-10-14 16:55:40--  https://d28rh4a8wq0iu5.cloudfront.net/ads1/code/kmer_index.py\n",
            "Resolving d28rh4a8wq0iu5.cloudfront.net (d28rh4a8wq0iu5.cloudfront.net)... 13.225.100.75, 13.225.100.127, 13.225.100.155, ...\n",
            "Connecting to d28rh4a8wq0iu5.cloudfront.net (d28rh4a8wq0iu5.cloudfront.net)|13.225.100.75|:443... connected.\n",
            "HTTP request sent, awaiting response... 200 OK\n",
            "Length: 971 [application/octet-stream]\n",
            "Saving to: ‘kmer_index.py’\n",
            "\n",
            "kmer_index.py       100%[===================>]     971  --.-KB/s    in 0s      \n",
            "\n",
            "2020-10-14 16:55:41 (106 MB/s) - ‘kmer_index.py’ saved [971/971]\n",
            "\n"
          ],
          "name": "stdout"
        }
      ]
    },
    {
      "cell_type": "code",
      "metadata": {
        "id": "WjW4LPmi85FL"
      },
      "source": [
        "from bm_preproc import BoyerMoore\n",
        "import kmer_index"
      ],
      "execution_count": 30,
      "outputs": []
    },
    {
      "cell_type": "code",
      "metadata": {
        "id": "5kBGxbNL9Ln7",
        "outputId": "905d8a5e-daa9-439f-fead-d26a2d3173ab",
        "colab": {
          "base_uri": "https://localhost:8080/",
          "height": 35
        }
      },
      "source": [
        "# implement versions of the naive exact matching and Boyer-Moore algorithms that additionally count and return \n",
        "# (a) the number of character comparisons performed and \n",
        "# (b) the number of alignments tried. \n",
        "# Roughly speaking, these measure how much work the two different algorithms are doing.\n",
        "genome = readGenome('chr1.GRCh38.excerpt.fasta')\n",
        "#get counts for naive\n",
        "def naive(p, t):\n",
        "    occurrences=[]\n",
        "    alignments = 0\n",
        "    chars = 0\n",
        "    for i in range(len(t) - len(p) + 1):  # loop over alignments\n",
        "        alignments+=1\n",
        "        match = True\n",
        "        for j in range(len(p)):  # loop over characters\n",
        "            chars+=1\n",
        "            if t[i+j] != p[j]:  # compare characters\n",
        "                match = False\n",
        "                break\n",
        "        if match:\n",
        "            occurrences.append(i)  # all chars matched; record\n",
        "    return alignments, chars, occurrences\n",
        "p='GGCGCGGTGGCTCACGCCTGTAATCCCAGCACTTTGGGAGGCCGAGG'\n",
        "t=genome\n",
        "alignments, chars, occurrences = naive(p, genome)\n",
        "print(f'Alignments: {alignments} Characters:{chars}')"
      ],
      "execution_count": 26,
      "outputs": [
        {
          "output_type": "stream",
          "text": [
            "Alignments: 799954 Characters:984143\n"
          ],
          "name": "stdout"
        }
      ]
    },
    {
      "cell_type": "code",
      "metadata": {
        "id": "UirSO8-0-qjI",
        "outputId": "2a3b8018-35f0-4019-a04e-479e9bb74df6",
        "colab": {
          "base_uri": "https://localhost:8080/",
          "height": 35
        }
      },
      "source": [
        "#get counts for Boyer-Moore\n",
        "def boyer_moore(p, p_bm, t):\n",
        "    \"\"\" Do Boyer-Moore matching. p=pattern, t=text,\n",
        "        p_bm=BoyerMoore object for p \"\"\"\n",
        "    i = 0\n",
        "    occurrences = []\n",
        "    alignments = 0\n",
        "    chars = 0\n",
        "    while i < len(t) - len(p) + 1:\n",
        "        shift = 1\n",
        "        mismatched = False\n",
        "        for j in range(len(p)-1, -1, -1):\n",
        "            chars+=1\n",
        "            if p[j] != t[i+j]:\n",
        "                skip_bc = p_bm.bad_character_rule(j, t[i+j])\n",
        "                skip_gs = p_bm.good_suffix_rule(j)\n",
        "                shift = max(shift, skip_bc, skip_gs)\n",
        "                mismatched = True\n",
        "                break\n",
        "        if not mismatched:\n",
        "            occurrences.append(i)\n",
        "            skip_gs = p_bm.match_skip()\n",
        "            shift = max(shift, skip_gs)\n",
        "        i += shift\n",
        "        alignments+=1\n",
        "    return alignments, chars, occurrences\n",
        "\n",
        "p = 'GGCGCGGTGGCTCACGCCTGTAATCCCAGCACTTTGGGAGGCCGAGG'\n",
        "t = genome\n",
        "index = 'AGCT'\n",
        "p_bm = BoyerMoore(p, index)   \n",
        "alignments, chars, occurrences = boyer_moore(p,p_bm, t)\n",
        "print(f'Alignments: {alignments} Characters:{chars}')"
      ],
      "execution_count": 27,
      "outputs": [
        {
          "output_type": "stream",
          "text": [
            "Alignments: 127974 Characters:165191\n"
          ],
          "name": "stdout"
        }
      ]
    },
    {
      "cell_type": "code",
      "metadata": {
        "id": "kdUyl_ZrCBzG",
        "outputId": "1ec06cb8-4b1e-45ba-ce33-f494100fa347",
        "colab": {
          "base_uri": "https://localhost:8080/",
          "height": 35
        }
      },
      "source": [
        "class Index(object):\n",
        "    def __init__(self, t, k):\n",
        "        ''' Create index from all substrings of size 'length' '''\n",
        "        self.k = k  # k-mer length (k)\n",
        "        self.index = []\n",
        "        for i in range(len(t) - k + 1):  # for each k-mer\n",
        "            self.index.append((t[i:i+k], i))  # add (k-mer, offset) pair\n",
        "        self.index.sort()  # alphabetize by k-mer\n",
        "    \n",
        "    def query(self, p):\n",
        "        ''' Return index hits for first k-mer of P '''\n",
        "        kmer = p[:self.k]  # query with first k-mer\n",
        "        i = bisect.bisect_left(self.index, (kmer, -1))  # binary search\n",
        "        hits = []\n",
        "        while i < len(self.index):  # collect matching index entries\n",
        "            if self.index[i][0] != kmer:\n",
        "                break\n",
        "            hits.append(self.index[i][1])\n",
        "            i += 1\n",
        "        return hits\n",
        "kmerIndex = kmer_index.Index(genome, 2)\n",
        "hits = kmerIndex.query('GGCGCGGTGGCTCACGCCTGTAAT')\n",
        "print(len(hits))"
      ],
      "execution_count": 45,
      "outputs": [
        {
          "output_type": "stream",
          "text": [
            "32162\n"
          ],
          "name": "stdout"
        }
      ]
    },
    {
      "cell_type": "code",
      "metadata": {
        "id": "ndC1Fwb7LTss",
        "outputId": "ba10b18f-ceb2-49e1-cef1-2b94609b6bb9",
        "colab": {
          "base_uri": "https://localhost:8080/",
          "height": 364
        }
      },
      "source": [
        "def approximate_match(p, t, n):\n",
        "    segment_length = int(round(len(p) / (n+1)))\n",
        "    all_matches = set()\n",
        "    p_idx = Index(t, segment_length)\n",
        "    idx_hits = 0\n",
        "    for i in range(n+1):\n",
        "        start = i*segment_length\n",
        "        end = min((i+1)*segment_length, len(p))\n",
        "        matches = p_idx.query(p[start:end])\n",
        "        \n",
        "        # Extend matching segments to see if whole p matches\n",
        "        for m in matches:\n",
        "            idx_hits += 1\n",
        "            if m < start or m-start+len(p) > len(t):\n",
        "                continue\n",
        "            \n",
        "            mismatches = 0\n",
        "            \n",
        "            for j in range(0, start):\n",
        "                if not p[j] == t[m-start+j]:\n",
        "                    mismatches += 1\n",
        "                    if mismatches > n:\n",
        "                        break\n",
        "            for j in range(end, len(p)):\n",
        "                if not p[j] == t[m-start+j]:\n",
        "                    mismatches += 1\n",
        "                    if mismatches > n:\n",
        "                        break\n",
        "            \n",
        "            if mismatches <= n:\n",
        "                all_matches.add(m - start)\n",
        "    return list(all_matches), idx_hits\n",
        "\n",
        "approximate_match('GGCGCGGTGGCTCACGCCTGTAAT', genome, 2)"
      ],
      "execution_count": 58,
      "outputs": [
        {
          "output_type": "execute_result",
          "data": {
            "text/plain": [
              "([84641,\n",
              "  160162,\n",
              "  724927,\n",
              "  273669,\n",
              "  147558,\n",
              "  364263,\n",
              "  421221,\n",
              "  681737,\n",
              "  717706,\n",
              "  465647,\n",
              "  429299,\n",
              "  747359,\n",
              "  657496,\n",
              "  160729,\n",
              "  56922,\n",
              "  635931,\n",
              "  191452,\n",
              "  551134,\n",
              "  262042],\n",
              " 90)"
            ]
          },
          "metadata": {
            "tags": []
          },
          "execution_count": 58
        }
      ]
    },
    {
      "cell_type": "code",
      "metadata": {
        "id": "ec3xSur0Dgxi",
        "outputId": "6b2331e8-7da8-4552-ac6f-27a4df3c2838",
        "colab": {
          "base_uri": "https://localhost:8080/",
          "height": 35
        }
      },
      "source": [
        "#check KMER\n",
        "def naive_2mm(p, t):\n",
        "    occurrences = []\n",
        "    for i in range(len(t) - len(p) + 1):  # loop over alignments\n",
        "        match = True\n",
        "        mismatch=0\n",
        "        for j in range(len(p)):  # loop over characters\n",
        "            if t[i+j] != p[j]:  # compare characters\n",
        "              mismatch+=1\n",
        "            if mismatch >2:\n",
        "                match= False\n",
        "                break\n",
        "        if match:\n",
        "            occurrences.append(i)  # all chars matched; record\n",
        "    return occurrences\n",
        "\n",
        "occur = naive_2mm(\"GGCGCGGTGGCTCACGCCTGTAAT\", genome)\n",
        "print(occur)"
      ],
      "execution_count": 43,
      "outputs": [
        {
          "output_type": "stream",
          "text": [
            "[56922, 84641, 147558, 160162, 160729, 191452, 262042, 273669, 364263, 421221, 429299, 465647, 551134, 635931, 657496, 681737, 717706, 724927, 747359]\n"
          ],
          "name": "stdout"
        }
      ]
    },
    {
      "cell_type": "code",
      "metadata": {
        "id": "fS_Gk0CpJvW3",
        "outputId": "5ec8f296-fba0-4c6c-f54b-59ae6919deaa",
        "colab": {
          "base_uri": "https://localhost:8080/",
          "height": 35
        }
      },
      "source": [
        "import bisect\n",
        "   \n",
        "class SubseqIndex(object):\n",
        "    \"\"\" Holds a subsequence index for a text T \"\"\"\n",
        "    \n",
        "    def __init__(self, t, k, ival):\n",
        "        \"\"\" Create index from all subsequences consisting of k characters\n",
        "            spaced ival positions apart.  E.g., SubseqIndex(\"ATAT\", 2, 2)\n",
        "            extracts (\"AA\", 0) and (\"TT\", 1). \"\"\"\n",
        "        self.k = k  # num characters per subsequence extracted\n",
        "        self.ival = ival  # space between them; 1=adjacent, 2=every other, etc\n",
        "        self.index = []\n",
        "        self.span = 1 + ival * (k - 1)\n",
        "        for i in range(len(t) - self.span + 1):  # for each subseq\n",
        "            self.index.append((t[i:i+self.span:ival], i))  # add (subseq, offset)\n",
        "        self.index.sort()  # alphabetize by subseq\n",
        "    \n",
        "    def query(self, p):\n",
        "        \"\"\" Return index hits for first subseq of p \"\"\"\n",
        "        subseq = p[:self.span:self.ival]  # query with first subseq\n",
        "        i = bisect.bisect_left(self.index, (subseq, -1))  # binary search\n",
        "        hits = []\n",
        "        while i < len(self.index):  # collect matching index entries\n",
        "            if self.index[i][0] != subseq:\n",
        "                break\n",
        "            hits.append(self.index[i][1])\n",
        "            i += 1\n",
        "        return hits\n",
        "\n",
        "ind = SubseqIndex('GGCGCGGTGGCTCACGCCTGTAAT', 8, 3)\n",
        "print(ind.index)"
      ],
      "execution_count": 47,
      "outputs": [
        {
          "output_type": "stream",
          "text": [
            "[('CGGTCCTT', 2), ('GCTCACGA', 1), ('GGGGCGTA', 0)]\n"
          ],
          "name": "stdout"
        }
      ]
    }
  ]
}