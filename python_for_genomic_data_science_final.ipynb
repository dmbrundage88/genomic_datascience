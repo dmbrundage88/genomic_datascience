{
  "nbformat": 4,
  "nbformat_minor": 0,
  "metadata": {
    "colab": {
      "name": "python_for_genomic_data_science_final.ipynb",
      "provenance": [],
      "authorship_tag": "ABX9TyPWH2VJoWKpX7gbgnKnhMy9",
      "include_colab_link": true
    },
    "kernelspec": {
      "name": "python3",
      "display_name": "Python 3"
    }
  },
  "cells": [
    {
      "cell_type": "markdown",
      "metadata": {
        "id": "view-in-github",
        "colab_type": "text"
      },
      "source": [
        "<a href=\"https://colab.research.google.com/github/dmbrundage88/genomic_datascience/blob/main/python_for_genomic_data_science_final.ipynb\" target=\"_parent\"><img src=\"https://colab.research.google.com/assets/colab-badge.svg\" alt=\"Open In Colab\"/></a>"
      ]
    },
    {
      "cell_type": "code",
      "metadata": {
        "id": "95HKoSc8yOx0",
        "outputId": "9e35ec1a-537a-4333-de39-372b1de1b4fe",
        "colab": {
          "base_uri": "https://localhost:8080/",
          "height": 35
        }
      },
      "source": [
        "#mount google drive\n",
        "from google.colab import drive\n",
        "\n",
        "drive.mount(\"/content/gdrive\")"
      ],
      "execution_count": 1,
      "outputs": [
        {
          "output_type": "stream",
          "text": [
            "Mounted at /content/gdrive\n"
          ],
          "name": "stdout"
        }
      ]
    },
    {
      "cell_type": "code",
      "metadata": {
        "id": "d8cfztHVS-6M",
        "outputId": "e0f3cdd0-b78a-4fde-c708-0f3444563b27",
        "colab": {
          "base_uri": "https://localhost:8080/",
          "height": 121
        }
      },
      "source": [
        "% pip install biopython"
      ],
      "execution_count": 2,
      "outputs": [
        {
          "output_type": "stream",
          "text": [
            "Collecting biopython\n",
            "\u001b[?25l  Downloading https://files.pythonhosted.org/packages/76/02/8b606c4aa92ff61b5eda71d23b499ab1de57d5e818be33f77b01a6f435a8/biopython-1.78-cp36-cp36m-manylinux1_x86_64.whl (2.3MB)\n",
            "\u001b[K     |████████████████████████████████| 2.3MB 5.0MB/s \n",
            "\u001b[?25hRequirement already satisfied: numpy in /usr/local/lib/python3.6/dist-packages (from biopython) (1.18.5)\n",
            "Installing collected packages: biopython\n",
            "Successfully installed biopython-1.78\n"
          ],
          "name": "stdout"
        }
      ]
    },
    {
      "cell_type": "code",
      "metadata": {
        "id": "1-8wUggVkxE3",
        "outputId": "f9ba207c-044d-44ae-88a8-c534757b4e42",
        "colab": {
          "base_uri": "https://localhost:8080/",
          "height": 35
        }
      },
      "source": [
        "import Bio\n",
        "Bio.__version__"
      ],
      "execution_count": 3,
      "outputs": [
        {
          "output_type": "execute_result",
          "data": {
            "application/vnd.google.colaboratory.intrinsic+json": {
              "type": "string"
            },
            "text/plain": [
              "'1.78'"
            ]
          },
          "metadata": {
            "tags": []
          },
          "execution_count": 3
        }
      ]
    },
    {
      "cell_type": "code",
      "metadata": {
        "id": "xi7jcnjBTKJw",
        "outputId": "8796b5f0-e1a2-4a03-87d2-877fa4416ef2",
        "colab": {
          "base_uri": "https://localhost:8080/",
          "height": 641
        }
      },
      "source": [
        "for record in SeqIO.parse(\"/content/gdrive/My Drive/dna2.fasta\", \"fasta\"):\n",
        "  for strand, nuc in [(+1, record.seq), (-1, record.seq.reverse_complement())]:\n",
        "       for frame in range(3):\n",
        "           length = 3 * ((len(record)-frame) // 3) #Multiple of three\n",
        "           for pro in nuc[frame:frame+length].split(\"*\"):\n",
        "             if frame == 2:\n",
        "                   print(\"%s...%s - length %i, strand %i, frame %i\" % (pro[:30], pro[-3:], len(pro), strand, frame))"
      ],
      "execution_count": 24,
      "outputs": [
        {
          "output_type": "stream",
          "text": [
            "CGCGTTGCAGGCCGGCGTGTCGCGCAACGA...TGC - length 4632, strand 1, frame 2\n",
            "CACCGCGCACCGCGTCGCCGAGCGGCTCGA...CGA - length 4632, strand -1, frame 2\n",
            "CGATCCAGTAGCGCTTGTAGCCGAGCGCTT...GCC - length 1149, strand 1, frame 2\n",
            "CCCAGGAGTCCTATACCAGCGTGACGACGT...GCG - length 1149, strand -1, frame 2\n",
            "CGACGCGCTCCGCGTCGAGGTCGCCCGACG...GTT - length 4890, strand 1, frame 2\n",
            "AACGCATAGACGTTGATGCCGTGATGCATG...TCG - length 4890, strand -1, frame 2\n",
            "TGCTCGGCACGACTATCAGCCCGTATCTGT...CGC - length 3507, strand 1, frame 2\n",
            "GCGAGCAGGCGGAGCGCATCTACGTGCAGC...GCA - length 3507, strand -1, frame 2\n",
            "CATCGGCGACGGCTACTGGTTCCTCGAGAA...TCA - length 4074, strand 1, frame 2\n",
            "AAAGCACGCAGGATCAGCAGGAACTCGATC...GCA - length 4074, strand -1, frame 2\n",
            "CCGTGCCGACGCGCCGCATCGTCAGCGCGC...CGA - length 2865, strand 1, frame 2\n",
            "GCGTGCGGAAGGCGAATGGGTGCCGAACGT...GGC - length 2865, strand -1, frame 2\n",
            "CGGGCGGCCTGTGGGCGGTCGGCGCCGGGC...TTG - length 438, strand 1, frame 2\n",
            "CAAGCAGCCGTCATTGCCGGGCCGCGACTG...CCG - length 438, strand -1, frame 2\n",
            "ACCGGCGAGGAAGTGGTCGGCGTCGAACAG...CTC - length 888, strand 1, frame 2\n",
            "GCTTGCGGCGCACGCCGTCGGCCGTTTCGA...TCC - length 888, strand -1, frame 2\n",
            "CGCGGGCGCCGGACGGAGCACGCGCATGAT...CGT - length 963, strand 1, frame 2\n",
            "ACGATGCTCTGTACGTGGCCGCGCAGCGCA...GCG - length 963, strand -1, frame 2\n",
            "TGCCGCGTTCAGCGCGAGAATGTTCGTCTG...GGA - length 4335, strand 1, frame 2\n",
            "CCGGTCCGCTGATTCTTTCTATATTCGGAA...CAG - length 4335, strand -1, frame 2\n",
            "TAGGCCTGGACCTGCGTGCGGGCGAGATCG...GAG - length 1350, strand 1, frame 2\n",
            "CGGCGCGCGCCTCGACTGGCCGCACGCGCA...ATA - length 1350, strand -1, frame 2\n",
            "GCGGGCCTCGCGCTGCCGTTCGCGGCGCTC...CCC - length 4560, strand 1, frame 2\n",
            "GGGGGCGAAAATCGGGCGCATTCATCCCCA...CGC - length 4560, strand -1, frame 2\n",
            "CGATCGACACGACGCTCGCGCAGCGCGACG...GGC - length 4800, strand 1, frame 2\n",
            "GCCGTCGGTGGATATTACTCGCCGGCATGC...TCG - length 4800, strand -1, frame 2\n",
            "CAGGTGGCAGCATTTAAGATCTCGCAAGGT...CAG - length 960, strand 1, frame 2\n",
            "CTGATAAATATGGATGATATTTAAAGGGTC...CTG - length 960, strand -1, frame 2\n",
            "GTGCCTGAAGACGTTTCAGGCGCGCGAATA...TGC - length 2091, strand 1, frame 2\n",
            "GCAACGTCATCGCGCGGCGGTCCTCGAGCT...CAC - length 2091, strand -1, frame 2\n",
            "GCGAAGGCCGCGTTCGCCACGCCCGCTGCC...CCC - length 1428, strand 1, frame 2\n",
            "GGGAGCTCGAGCCGGGCGCCGATTTCATTT...CGC - length 1428, strand -1, frame 2\n",
            "GGTCCCGGCGCCGCAGGCCGTCCGGCTCCT...CGG - length 111, strand 1, frame 2\n",
            "CCGCACTGCGCCATCACGGCCCAGGCCGGG...ACC - length 111, strand -1, frame 2\n",
            "GAACCGGGAACCGGAACCATGACAGCCCCG...TAG - length 2643, strand 1, frame 2\n",
            "TATGCGTGGCTGCCGTATGTGTTCGTCGCA...TCT - length 2643, strand -1, frame 2\n"
          ],
          "name": "stdout"
        }
      ]
    },
    {
      "cell_type": "code",
      "metadata": {
        "id": "b92B3W5KyZm8",
        "outputId": "c9c480ec-b75a-4da5-9387-25b8b6ac9d76",
        "colab": {
          "base_uri": "https://localhost:8080/",
          "height": 35
        }
      },
      "source": [
        "# (1) How many records are in the file? A record in a FASTA file is defined as a single-line header, followed by lines of sequence data. \n",
        "# The header line is distinguished from the sequence data by a greater-than (\">\") symbol in the first column. The word following the \">\" symbol is the identifier of the sequence, \n",
        "# and the rest of the line is an optional description of the entry. There should be no space between the \">\" and the first letter of the identifier.\n",
        "\n",
        "#read in fasta\n",
        "from Bio import SeqIO\n",
        "records = []\n",
        "for record in SeqIO.parse(\"/content/gdrive/My Drive/dna2.fasta\", \"fasta\"):\n",
        "    records.append(record.id)\n",
        "print(len(records))"
      ],
      "execution_count": 4,
      "outputs": [
        {
          "output_type": "stream",
          "text": [
            "18\n"
          ],
          "name": "stdout"
        }
      ]
    },
    {
      "cell_type": "code",
      "metadata": {
        "id": "ypSUbjYNzmPX",
        "outputId": "5ff5b095-ffe2-49f8-d0e5-c798624d8d3f",
        "colab": {
          "base_uri": "https://localhost:8080/",
          "height": 52
        }
      },
      "source": [
        "# 2) What are the lengths of the sequences in the file? What is the longest sequence and what is the shortest sequence? \n",
        "# Is there more than one longest or shortest sequence? What are their identifiers\n",
        "seq_dict = {}\n",
        "for record in SeqIO.parse(\"/content/gdrive/My Drive/dna2.fasta\", \"fasta\"):\n",
        "    seq_dict[record.id]= len(record.seq)\n",
        "lengths = sorted(list(seq_dict.values()))\n",
        "min_length = min(lengths)\n",
        "max_length = max(lengths)\n",
        "\n",
        "for record in seq_dict:\n",
        "  if seq_dict[record] == min_length:\n",
        "    print('minimum length value: '+ record, min_length)\n",
        "  if seq_dict[record] == max_length:\n",
        "    print('maximum length value: '+ record, max_length)"
      ],
      "execution_count": 7,
      "outputs": [
        {
          "output_type": "stream",
          "text": [
            "maximum length value: gi|142022655|gb|EQ086233.1|255 4894\n",
            "minimum length value: gi|142022655|gb|EQ086233.1|346 115\n"
          ],
          "name": "stdout"
        }
      ]
    },
    {
      "cell_type": "code",
      "metadata": {
        "id": "bn7c6iAKHdJK"
      },
      "source": [
        "def find_orf(seq):\n",
        "\n",
        "  stops = [\"TAA\",\"TGA\",\"TAG\"]    \n",
        "  lst1 = [] #List for the start codons\n",
        "  lst2 = [] #List for the stop codons\n",
        "  start = 0 #The start position of the sequence.\n",
        "  counter = 0 #Counter for 3 optional orfs.\n",
        "  sequences =[]\n",
        "  #initializes the lists for 3 optional orfs.\n",
        "  for i in range (3):\n",
        "      lst1.append([])\n",
        "      lst2.append([])\n",
        "  #Add to the lists the positions of the start and stop codons.\n",
        "  while (seq and counter < 3):\n",
        "\n",
        "      for i in range(start,len(seq),3):\n",
        "          codon = seq[i:i+3] #The codon is 3 nucleotides.\n",
        "          #print codon+ \"\\t\"\n",
        "          if(codon == \"ATG\"): #If the codon is  a start codon.\n",
        "              lst1[start].append(i) #The position of the start codon.\n",
        "\n",
        "          if(codon in stops): #if the codon is a stop codon.\n",
        "              lst2[start].append(i+3) #The position of the stop codon.\n",
        "\n",
        "\n",
        "      start += 1 #promotes the starting position.\n",
        "      counter += 1 #promotes the counter\n",
        "  for idx ,l in enumerate(lst1):\n",
        "    for idx2, i in enumerate(l):\n",
        "      try:\n",
        "        sequences.append(seq[i:lst2[idx][idx2]])\n",
        "      except(IndexError):\n",
        "        sequences.append('error')\n",
        "  output = [str(sequence) for sequence in sequences if sequence not in ['error','']]\n",
        "  return output"
      ],
      "execution_count": 8,
      "outputs": []
    },
    {
      "cell_type": "code",
      "metadata": {
        "id": "iVkxT9KVXR1f"
      },
      "source": [
        "# 3) In molecular biology, a reading frame is a way of dividing the DNA sequence of nucleotides into a set of consecutive, non-overlapping triplets (or codons). \n",
        "# Depending on where we start, there are six possible reading frames: three in the forward (5' to 3') direction and three in the reverse (3' to 5'). For instance, \n",
        "# the three possible forward reading frames for the sequence AGGTGACACCGCAAGCCTTATATTAGC are:\n",
        "\n",
        "# AGG TGA CAC CGC AAG CCT TAT ATT AGC\n",
        "# A GGT GAC ACC GCA AGC CTT ATA TTA GC\n",
        "# AG GTG ACA CCG CAA GCC TTA TAT TAG C\n",
        "\n",
        "# These are called reading frames 1, 2, and 3 respectively. An open reading frame (ORF) is the part of a reading frame that has the potential to encode a protein. \n",
        "# It starts with a start codon (ATG), and ends with a stop codon (TAA, TAG or TGA). For instance, ATGAAATAG is an ORF of length 9.\n",
        "\n",
        "# Given an input reading frame on the forward strand (1, 2, or 3) your program should be able to identify all ORFs present in each sequence of the FASTA file, \n",
        "# and answer the following questions: \n",
        "\n",
        "# what is the length of the longest ORF in the file? \n",
        "# What is the identifier of the sequence containing the longest ORF? \n",
        "# For a given sequence identifier, what is the longest ORF contained in the sequence represented by that identifier? \n",
        "# What is the starting position of the longest ORF in the sequence that contains it? The position should indicate the character number in the sequence. \n",
        "# For instance, the following ORF in reading frame 1:\n",
        "\n",
        "# >sequence1\n",
        "# ATGCCCTAG\n",
        "# starts at position 1.\n",
        "# Note that because the following sequence:\n",
        "# >sequence2\n",
        "# ATGAAAAAA\n",
        "# does not have any stop codon in reading frame 1, we do not consider it to be an ORF in reading frame 1.\n",
        "orf_dict={}\n",
        "for record in SeqIO.parse(\"/content/gdrive/My Drive/dna2.fasta\", \"fasta\"):\n",
        "  orf_dict[record.id] = find_orf(record.seq)\n"
      ],
      "execution_count": 9,
      "outputs": []
    },
    {
      "cell_type": "code",
      "metadata": {
        "id": "zF6L-xDcHyJF",
        "outputId": "90da8d61-3ae4-4bb4-c72e-ecd1c71106fd",
        "colab": {
          "base_uri": "https://localhost:8080/",
          "height": 35
        }
      },
      "source": [
        "#longest ORF in file\n",
        "orf_lengths=[]\n",
        "for key in orf_dict:\n",
        "  for value in orf_dict[key]:\n",
        "    orf_lengths.append(len(value))\n",
        "max_orf_length = max(orf_lengths)\n",
        "print(max_orf_length)"
      ],
      "execution_count": 10,
      "outputs": [
        {
          "output_type": "stream",
          "text": [
            "3174\n"
          ],
          "name": "stdout"
        }
      ]
    },
    {
      "cell_type": "code",
      "metadata": {
        "id": "l-RHKCqnSoxM",
        "outputId": "38106a31-4f66-4362-e1f8-befb6f1908d0",
        "colab": {
          "base_uri": "https://localhost:8080/",
          "height": 35
        }
      },
      "source": [
        "#identifier of sequence with longest orf\n",
        "for key in orf_dict:\n",
        "  for value in orf_dict[key]:\n",
        "    if len(value) == max_orf_length:\n",
        "      print(key)"
      ],
      "execution_count": 11,
      "outputs": [
        {
          "output_type": "stream",
          "text": [
            "gi|142022655|gb|EQ086233.1|16\n"
          ],
          "name": "stdout"
        }
      ]
    },
    {
      "cell_type": "code",
      "metadata": {
        "id": "5gauuAjUYg4T",
        "outputId": "5a7e4ec2-46b1-43e5-d9f5-6dbc8b9ed341",
        "colab": {
          "base_uri": "https://localhost:8080/",
          "height": 72
        }
      },
      "source": [
        "# For a given sequence identifier, what is the longest ORF contained in the sequence represented by that identifier? \n",
        "def longest_orf(seq_id):\n",
        "  seq_lengths = [len(seq) for seq in orf_dict[seq_id]]\n",
        "  max_index = seq_lengths.index(max(seq_lengths))\n",
        "  return max(seq_lengths), orf_dict[seq_id][max_index]\n",
        "longest_orf('gi|142022655|gb|EQ086233.1|16')"
      ],
      "execution_count": 12,
      "outputs": [
        {
          "output_type": "execute_result",
          "data": {
            "text/plain": [
              "(3174,\n",
              " 'ATGCCGGCGTTGACGTTTTCGTGGAGTGAGTCAGATGAATCACGCAGCGAATCCCGCCGATCCCGATCGCGCCGCGGCGCAGGGCGGCAGCCTGTACAACGACGATCTCGCGCCGACGACGCCGGCGCAGCGCACGTGGAAGTGGTATCACTTCGCGGCGCTGTGGGTCGGGATGGTGATGAACATCGCGTCGTACATGCTCGCGGCCGGGCTGATCCAGGAAGGCATGTCGCCGTGGCAGGCGGTGACGACGGTGCTGCTCGGCAACCTGATCGTGCTCGTGCCGATGCTGCTGATCGGCCATGCGGGCGCGAAGCACGGGATTCCGTACGCGGTGCTCGTGCGCGCGTCGTTCGGCACGCAGGGGGCGAAGCTGCCGGCGCTGCTGCGCGCGATCGTCGCGTGCGGCTGGTACGGGATCCAGACCTGGCTCGGCGGCAGCGCGATCTATACGCTGCTGAACATCCTGACCGGCAACGCGCTGCATGGCGCCGCGCTGCCGGTCATCGGCATCGGGTTCGGGCAGCTCGCATGCTTCCTCGTGTTCTGGGCGCTGCAGCTCTACTTCATCTGGCATGGCACCGATTCGATCCGCTGGCTCGAAAGCTGGTCGGCGCCGATCAAGGTCGTGATGTGCGTGGCGCTGGTGTGGTGGGCAACGTCGAAGGCGGGCGGCTTCGGCACGATGCTGTCGGCGCCGTCGCAGTTTGCCGCAGGCGGCAAGAAAGCCGGGCTGTTCTGGGCGACCTTCTGGCCGGGGCTGACCGCGATGGTCGGCTTCTGGGCGACGCTCGCGCTGAACATCCCCGACTTCACGCGCTTCGCGCATTCGCAGCGCGACCAGGTGATCGGCCAGTCGATCGGGCTGCCGTTGCCGATGGCGCTGCTGTCGGTGGTGTCGGTCGTCGTGACGTCGGCGACCGTCGTGATCTACGGCAACGCGATCTGGGATCCGATCGACCTGACGAGCCGGATGACGGGCATCGGCGTGGGCATCGCGCTCGTGATCCTCACGCTCGACACGATGTGCTGCAACCTCGCCGCGAATCTCGTCGGCCCGGCGTACGACTTCTCGAGCCTGTGGCCGAAGGCGATCTCGTACCGCACCGGCGGGATGATCACCGCGACGCTCGCGATCGTGATGATGCCGTGGAAGATCCTCGCGACGACGGACGGCTACATCTTCACCTGGCTCGTCGGCTACTCGGCGCTGCTCGGGCCCGTGGCGGGGATCCTGATGGTCGACTACTTCCTGATTCGCGGCACGCGGCTCGACACGCGCGCGCTGTTCGACGAGCGCGGCGGCTTCAGCTACGCGCGCGGCTGGAACCCGGCCGCGCTGGCCGCGCTCGCGGTCGGCGTGCTGCCGAACCTGCCCGGCTTCCTGCACACGGCGTTTCCGGCGTCGTTTCCGAACGTGCCGGCGTTCTTCAACACGCTTTACACGTACGCGTGGTTCGTCGGCCTCGTGCTGGCGTCATGCGTGTACGGCACCTGGATGAAGTGGCGCGCCGGACAGCACGCGCAGATCGCGAGCGCCTGATTCGGCACCCGACAGTCAACGAGGAGGCAACCCCATGGCAATCCTGATTCGTGGCGGCACCGTGGTCGATGCGGACCGTTCCTACCGCGCGGACGTGCTCTGCGCAGCCCCGGAGGACGGCGGCACGATCCTGCAGATCGCCGGGCAGATCGATGCGCCGGCCGGCGCGACCGTCGTCGATGCGCACGACCAGTACGTGATGCCGGGCGGCATCGATCCGCATACGCACATGGAACTGCCGTTCATGGGCACGACCGCGAGCGACGATTTCTACTCGGGTACGGCCGCCGGGCTCGCGGGCGGCACGACGAGCATCATCGACTTCGTGATCCCGAGCCCGAAGCAGCCGCTGATGGACGCGTTCCATGCCTGGCGCGGCTGGGCCGAGAAGGCGGCGGCCGACTACGGCTTCCACGTGGCCGTGACGTGGTGGGACGAGAGTGTGCACCGCGACATGGGCACGCTCGTGCGCGAACACGGCGTGTCGAGCTTCAAGCACTTCATGGCGTACAAGAACGCGATCATGGCCGACGACGAGGTGCTCGTGAACAGCTTCTCGCGTTCGCTCGAACTCGGCGCGTTGCCGACCGTGCATGCGGAGAACGGCGAGCTCGTGTTCCAGTTGCAGAAGGCGCTGCTCGCGCGCGGGATGACGGGGCCGGAGGCGCATCCGCTGTCGCGGCCGCCGGAGGTCGAGGGTGAGGCGGCGAATCGTGCGATCCGCATTGCGCAGGTGCTCGGCGTGCCGGTGTATATCGTGCATGTGTCCGCGAAGGACGCGGTCGATGCGATCACGAAGGCGCGCAGCGAAGGGCTGCGCGTGTTCGGCGAGGTGCTGCCGGGCCATCTGGTGATCGACGAGGCCGTCTATCGCGATCCGGACTGGACACGTGCGGCCGCGCACGTGATGAGCCCGCCGTTCCGCTCGGCCGAGCACCGCGAGGCGCTGTGGCGCGGGCTGCAGGCAGGGCAGCTGCATACGACGGCAACCGACCACTGCGTGTTCTGCGCGTCGCAGAAGGCGATGGGCCGCGAGGATTTCACGAAGATCCCGAACGGCTGCGGCGGTGTCGAGGATCGCATGTCGGTGCTGTGGCATCACGGCGTGAATCATGGCCGCATCACGCCGAACGAGTTCGTGCGGATCACGTCGACGAACGCCGCGCAGATCTTCAACCTGTATCCGCGCAAGGGCGCCGTGCAGGTGGGCGCCGATGCCGACCTCGTCGTGTGGGACCCGGCCGCGACCAGGACGATCTCGGTGAAGACGCATCACCAGCAGGTCGATTTCAACGTGTTCGAGGGGATGACCGTACAAGGCGTCGCAACCCACACGCTCACGCGCGGCGCGCTCGCGTGGGCCGACGGCGATCTGCGTGCCGTGCGCGGCGCGGGCCGCTATCTGAAGCGCCCGCCGGCAGCCAGCTACTACGAGGCCGCGCGGATCGCGAACCGGCTGCGCGAACCGCATCCGGTCGAGCGCGCCGGTTGAGCGTTGCGTATCGCGCGGGGCGTGTCGGTTCGAACGACACGCCCCGCGCATGTTTGAGCGTGCGTTTACGTTCGTGCCGGCACCGCTCGTGCCGCCTCTCCGCATCACGCCCATCCTCTCAATATTTGGGATGAATTGA')"
            ]
          },
          "metadata": {
            "tags": []
          },
          "execution_count": 12
        }
      ]
    },
    {
      "cell_type": "code",
      "metadata": {
        "id": "dGcF7-_9ZXdy",
        "outputId": "9e312452-3e92-40bf-c521-3781927f108c",
        "colab": {
          "base_uri": "https://localhost:8080/",
          "height": 35
        }
      },
      "source": [
        "#What is the starting position of the longest ORF in the sequence that contains it? The position should indicate the character number in the sequence.\n",
        "def orf_start_id(seq_id):\n",
        "  for record in SeqIO.parse(\"/content/gdrive/My Drive/dna2.fasta\", \"fasta\"):\n",
        "    if record.id == seq_id:\n",
        "      sequence = record.seq\n",
        "      length, substring = longest_orf(seq_id)\n",
        "      substring_position = sequence.find(substring)+1\n",
        "      return substring_position\n",
        "orf_start_id('gi|142022655|gb|EQ086233.1|16')"
      ],
      "execution_count": 16,
      "outputs": [
        {
          "output_type": "execute_result",
          "data": {
            "text/plain": [
              "1494"
            ]
          },
          "metadata": {
            "tags": []
          },
          "execution_count": 16
        }
      ]
    },
    {
      "cell_type": "code",
      "metadata": {
        "id": "gzul3-SplAMz"
      },
      "source": [
        "# '''(4) A repeat is a substring of a DNA sequence that occurs in multiple copies (more than one) somewhere in the sequence. \n",
        "# Although repeats can occur on both the forward and reverse strands of the DNA sequence, we will only consider repeats on the forward strand here. \n",
        "# Also we will allow repeats to overlap themselves. For example, the sequence ACACA contains two copies of the sequence ACA - once at position 1 (index 0 in Python), \n",
        "# and once at position 3. Given a length n, your program should be able to identify all repeats of length n in all sequences in the FASTA file. \n",
        "# Your program should also determine how many times each repeat occurs in the file, and which is the most frequent repeat of a given length.'''\n",
        "def find_repeats(seq, n):\n",
        "    dic_list=[]\n",
        "    repeat_dic={}\n",
        "    repeats = []\n",
        "    for i in range(1,len(seq)):\n",
        "        repeat = seq[i-1:i+n]\n",
        "        repeats.append(repeat)\n",
        "    repeat_set = set(repeats)\n",
        "    for r in repeat_set:\n",
        "      repeat_dic[str(r)] = repeats.count(r)\n",
        "    dic_list.append(repeat_dic)\n",
        "    return dic_list\n",
        "total_repeats ={}\n",
        "for record in SeqIO.parse(\"/content/gdrive/My Drive/dna2.fasta\", \"fasta\"):\n",
        "  seq_repeat = []\n",
        "  seq_repeat.extend(find_repeats(record.seq,4))"
      ],
      "execution_count": 37,
      "outputs": []
    },
    {
      "cell_type": "code",
      "metadata": {
        "id": "JvH0b8dKSyZZ",
        "outputId": "37b6fbcf-f1d1-48ce-fcbe-82db6ff2a70d",
        "colab": {
          "base_uri": "https://localhost:8080/",
          "height": 55
        }
      },
      "source": [
        "import collections\n",
        "counter = collections.Counter() \n",
        "for d in seq_repeat:  \n",
        "    counter.update(d) \n",
        "      \n",
        "result = dict(counter) \n",
        "  \n",
        "  \n",
        "print(\"resultant dictionary : \", str(counter))\n"
      ],
      "execution_count": 38,
      "outputs": [
        {
          "output_type": "stream",
          "text": [
            "resultant dictionary :  Counter({'CGCCG': 27, 'GCCGC': 27, 'CGCGA': 20, 'CGACG': 18, 'CCGCC': 16, 'CCGCG': 16, 'GGCCG': 15, 'CGGCC': 15, 'CATCG': 15, 'ACGCG': 15, 'CGCGG': 15, 'ATCGC': 14, 'CAGCC': 14, 'GCAGC': 13, 'GACGC': 13, 'GCGGC': 13, 'GCGAT': 13, 'CGGCG': 13, 'CCGGC': 12, 'CGACC': 12, 'GGCGA': 12, 'GCCGA': 12, 'TCGAC': 12, 'CGGCA': 12, 'GCCGG': 12, 'CAGGC': 11, 'TCGCC': 11, 'CGATG': 11, 'TCGCG': 11, 'CGCGC': 11, 'ACGCC': 11, 'CCAGC': 11, 'CAGCA': 11, 'ACGGC': 11, 'ACCGC': 11, 'TCGGC': 10, 'CGATC': 10, 'CCGAC': 10, 'GACGA': 10, 'GCTCG': 10, 'CGAAC': 10, 'AACGC': 10, 'GCGCG': 10, 'CCCGA': 9, 'GCGGA': 9, 'CCATC': 9, 'GACCA': 9, 'TGGCG': 9, 'GCCGT': 9, 'AGCCG': 9, 'AGGCC': 9, 'AGCAG': 9, 'GCGAC': 9, 'TGCCG': 9, 'GATCG': 9, 'CACCG': 9, 'CGTCG': 8, 'CCGGA': 8, 'CGCAG': 8, 'GATCA': 8, 'GTCGG': 8, 'GCACG': 8, 'CCGCA': 8, 'GGCCC': 8, 'GCCCG': 8, 'GCCAG': 8, 'CGCCC': 8, 'GCCTG': 8, 'CGCTG': 8, 'GCGAG': 8, 'ACCGG': 8, 'CAGCG': 7, 'GGTCG': 7, 'GACCG': 7, 'GCGTG': 7, 'CGGAA': 7, 'CTGGC': 7, 'GCATC': 7, 'CCGTC': 7, 'CGCAC': 7, 'CCTGC': 7, 'GCGTT': 7, 'TCGTC': 7, 'CGAGG': 7, 'ATCGA': 7, 'CGAGC': 7, 'TCCGG': 7, 'CCACC': 7, 'GCGCC': 7, 'CGTTC': 7, 'CACGA': 7, 'AGCGG': 7, 'GGCGC': 7, 'TCGTG': 7, 'CACGC': 7, 'CGGGT': 7, 'CAAGC': 7, 'CCGAA': 7, 'GCCCC': 7, 'CCGGG': 7, 'CGCCA': 7, 'GGCGT': 6, 'CCATG': 6, 'ACGAA': 6, 'GAACC': 6, 'GCCCA': 6, 'GAACA': 6, 'CCCGG': 6, 'GCGGG': 6, 'CACCA': 6, 'AGCCA': 6, 'AGCTC': 6, 'CCGAG': 6, 'GTCGT': 6, 'ATGCG': 6, 'CGCAT': 6, 'GAACG': 6, 'AGCGT': 6, 'ACCAG': 6, 'GGATC': 6, 'AGCAT': 6, 'CCCCG': 6, 'ACAGC': 6, 'GGACG': 6, 'CGGCT': 6, 'GCACC': 6, 'CTCGC': 6, 'CTCGG': 6, 'GGCAC': 6, 'CCGCT': 6, 'TGTCG': 6, 'GCAAT': 6, 'AACCG': 6, 'GCGCA': 6, 'ACCAC': 6, 'CGGAC': 6, 'GGCGG': 6, 'GACGG': 6, 'CGTGA': 6, 'CGTCA': 6, 'GCTGG': 6, 'GCAGG': 6, 'GATGG': 6, 'ATCAC': 6, 'TTTCG': 6, 'CTGCG': 6, 'TGCGC': 6, 'CATCA': 6, 'CCGGT': 6, 'TACCG': 6, 'TCAGC': 6, 'CGCGT': 6, 'GGGCG': 6, 'AGCCC': 5, 'ATCCG': 5, 'GCTTC': 5, 'GCTGC': 5, 'GTCGA': 5, 'ACCGA': 5, 'CGGGC': 5, 'TGCAA': 5, 'TTGCC': 5, 'TTCGA': 5, 'TCAGG': 5, 'GCATG': 5, 'CAACG': 5, 'CCACG': 5, 'TGGCC': 5, 'AAGCC': 5, 'GGCTG': 5, 'GGCAA': 5, 'TGACG': 5, 'GTGGC': 5, 'CCAGA': 5, 'TGCAC': 5, 'CGTTG': 5, 'TTCGC': 5, 'TGACC': 5, 'AAAGC': 5, 'CGGTC': 5, 'TCGCA': 5, 'ATCAG': 5, 'CGCTC': 5, 'ATTGC': 5, 'GGCCA': 5, 'CCCGC': 5, 'TTGCA': 5, 'TCACG': 5, 'GTTCG': 5, 'CCGAT': 5, 'ACCCG': 5, 'AAGCG': 5, 'GAGCA': 5, 'GAGGC': 5, 'CGGTA': 5, 'ATCAA': 5, 'TCACC': 5, 'CGGGG': 5, 'GCTGA': 5, 'GCCAT': 5, 'GCGTC': 4, 'CTGAC': 4, 'CCGTT': 4, 'TGAAC': 4, 'CATGC': 4, 'GTTGC': 4, 'TGATC': 4, 'ATCGT': 4, 'ACATC': 4, 'ACCGT': 4, 'GCGCT': 4, 'ACGAG': 4, 'GGGTC': 4, 'ATGGA': 4, 'AAGCA': 4, 'TCGGG': 4, 'CACGG': 4, 'CGAAT': 4, 'GGAAC': 4, 'CGTGT': 4, 'GTCCA': 4, 'TACGC': 4, 'TGCTG': 4, 'CGTGC': 4, 'GTGCA': 4, 'AATCC': 4, 'GCAAG': 4, 'CGAGT': 4, 'GCCAC': 4, 'GAGCG': 4, 'GACAG': 4, 'ATTTC': 4, 'CATTG': 4, 'CAGCT': 4, 'ACGCA': 4, 'GATGC': 4, 'TCCAG': 4, 'GCGAA': 4, 'CTCGA': 4, 'ACTCG': 4, 'CGTGG': 4, 'ACGAC': 4, 'GGGTT': 4, 'GGTAC': 4, 'CGACA': 4, 'GTACA': 4, 'ACGCT': 4, 'GGCTT': 4, 'AATGC': 4, 'TGCGG': 4, 'TCATC': 4, 'GGTCA': 4, 'GTCAC': 4, 'GGCCT': 4, 'CACCC': 4, 'CTGCC': 4, 'CCAGG': 4, 'GAATG': 4, 'GACCT': 4, 'GCGGT': 4, 'GAAGC': 4, 'CGAAG': 4, 'AGCAA': 4, 'TTACG': 4, 'GCACT': 4, 'TCCAT': 4, 'CTTCG': 4, 'TCGGT': 4, 'CGGAT': 4, 'GTTCA': 3, 'GTACC': 3, 'AACGG': 3, 'GTGCC': 3, 'ACCAT': 3, 'AACTC': 3, 'GGCTC': 3, 'GCCTT': 3, 'GGTTT': 3, 'CTCCA': 3, 'TTCGT': 3, 'TTGAC': 3, 'TGGTC': 3, 'TTCCG': 3, 'TTCAT': 3, 'TTGAT': 3, 'TACGG': 3, 'GAGCC': 3, 'TCGAA': 3, 'GGAAA': 3, 'AGCGC': 3, 'CCCAG': 3, 'GAAGA': 3, 'AATTG': 3, 'CGGGA': 3, 'CTCCG': 3, 'GGCAG': 3, 'ATACC': 3, 'CGGTG': 3, 'ACACC': 3, 'CAGAA': 3, 'GGAGC': 3, 'TTTAC': 3, 'GGCAT': 3, 'AGGCT': 3, 'CAGGA': 3, 'GGTGC': 3, 'CACTG': 3, 'GTTTC': 3, 'CCGTG': 3, 'AACAC': 3, 'CTCGT': 3, 'GCAAA': 3, 'ACGGG': 3, 'GAAAC': 3, 'GATGA': 3, 'ACGAT': 3, 'AGGCA': 3, 'CTCAG': 3, 'ATGGC': 3, 'ATCTC': 3, 'ATCCA': 3, 'GGGAC': 3, 'GGGGC': 3, 'CTTGA': 3, 'GAAAG': 3, 'GAATC': 3, 'CCCAC': 3, 'CAATT': 3, 'TCGAG': 3, 'CCTCG': 3, 'CTGCA': 3, 'CGCCT': 3, 'TTCGG': 3, 'TCCGC': 3, 'CAATG': 3, 'CCTCC': 3, 'CCAAG': 3, 'TCAAT': 3, 'AGTGC': 3, 'GCATT': 3, 'ATTGA': 3, 'ATGAA': 3, 'GATCT': 3, 'AAACG': 3, 'CCTTG': 3, 'TACAT': 3, 'AACAG': 3, 'GTCAT': 3, 'CGAGA': 3, 'TGCAG': 3, 'GTGAC': 3, 'TGCCT': 3, 'ATGTC': 3, 'GTCGC': 3, 'GCAAC': 3, 'AGGCG': 3, 'CGTCC': 3, 'CAATC': 3, 'ACCTG': 3, 'TGTGG': 3, 'GGACC': 3, 'GGTCC': 3, 'TCGAT': 3, 'AGCCT': 3, 'GGGCC': 3, 'ACGTT': 3, 'CCCAT': 3, 'GTGTC': 3, 'CATGA': 3, 'CCCTC': 3, 'ACATA': 2, 'TGAAG': 2, 'GATAC': 2, 'AGAAT': 2, 'CAGAC': 2, 'TTCTC': 2, 'CATGT': 2, 'TCAAC': 2, 'AATCG': 2, 'CCTTC': 2, 'AGATA': 2, 'GGGGA': 2, 'ACTGG': 2, 'CAGTT': 2, 'GTCCC': 2, 'TGGAT': 2, 'TATCT': 2, 'AGCAC': 2, 'GCAGT': 2, 'AACCA': 2, 'ACCCA': 2, 'ACTGC': 2, 'CGTTT': 2, 'GCGTA': 2, 'GGAAT': 2, 'ACCAA': 2, 'AAGGC': 2, 'CGATT': 2, 'AGACC': 2, 'CAATA': 2, 'TGAGC': 2, 'ATGCA': 2, 'GAGGT': 2, 'CATTT': 2, 'GCCAA': 2, 'GGACA': 2, 'GTCAG': 2, 'GTGAG': 2, 'AGACG': 2, 'AGGGC': 2, 'TACCC': 2, 'AAGAC': 2, 'CCAAC': 2, 'GGGGG': 2, 'CATAC': 2, 'TGTCC': 2, 'GAACT': 2, 'GTGAA': 2, 'GAGGG': 2, 'CAACT': 2, 'CTGCT': 2, 'CGCTT': 2, 'CTGTG': 2, 'AGAAC': 2, 'TTGAA': 2, 'GTTGA': 2, 'ATGGG': 2, 'CAGGT': 2, 'TGGGC': 2, 'AGGTC': 2, 'GTTAC': 2, 'TCCGA': 2, 'GAGAC': 2, 'CGAAA': 2, 'CAAGG': 2, 'GCTCA': 2, 'GTTCC': 2, 'TCTCG': 2, 'AAGCT': 2, 'CATGG': 2, 'GGTTC': 2, 'GCCTC': 2, 'TGCGT': 2, 'GCTCC': 2, 'CTGGT': 2, 'GACGT': 2, 'GAGTG': 2, 'ATCGG': 2, 'GACAT': 2, 'GACAA': 2, 'GCAGA': 2, 'TTTCA': 2, 'TCCCG': 2, 'CTGTC': 2, 'TCATT': 2, 'CTACC': 2, 'AGGTA': 2, 'GGGCT': 2, 'AGTAC': 2, 'GACCC': 2, 'ACAGG': 2, 'CAAAA': 2, 'CTATC': 2, 'GGATG': 2, 'ATGCC': 2, 'AATGG': 2, 'GTCCG': 2, 'CACTT': 2, 'GGGGT': 2, 'TGATG': 2, 'CCTGA': 2, 'TGTTA': 2, 'CTTCC': 2, 'ATCTG': 2, 'ATGAG': 2, 'CGCAA': 2, 'GTTTA': 2, 'GATTG': 2, 'GATGT': 2, 'GTATC': 2, 'TCTCC': 2, 'TGCGA': 2, 'TGGAC': 2, 'TATCA': 2, 'CAAAC': 2, 'GGTGA': 2, 'TTCAA': 2, 'CCTGT': 2, 'TCCAA': 2, 'TGAGG': 2, 'CGTCT': 2, 'GCTGT': 2, 'CGTAC': 2, 'TCAAG': 2, 'GTGAT': 2, 'AGGAA': 2, 'CATCC': 2, 'ACCTC': 2, 'GTGCG': 2, 'CGGAG': 2, 'TCTGG': 2, 'TTCAG': 2, 'AAAAG': 2, 'CGGTT': 2, 'GAGAT': 2, 'GTACG': 2, 'CACCT': 2, 'GATTT': 2, 'AATAT': 2, 'GGGAT': 2, 'CTTTC': 2, 'ATGCT': 2, 'GCACA': 2, 'CAGAG': 1, 'CTGGG': 1, 'GTGGA': 1, 'TAGA': 1, 'ACATT': 1, 'CAGAT': 1, 'ACGGT': 1, 'GTGTA': 1, 'GTTTG': 1, 'ACGTC': 1, 'GTGGT': 1, 'CACGT': 1, 'CCTAC': 1, 'AGAAG': 1, 'CTGAA': 1, 'AGAGC': 1, 'AAGTG': 1, 'CCACT': 1, 'GA': 1, 'GTAAC': 1, 'CTACG': 1, 'CCAAT': 1, 'AAAAC': 1, 'GGGAA': 1, 'GGAAG': 1, 'CGTTA': 1, 'AGGGA': 1, 'AACGT': 1, 'GAAGT': 1, 'GCATA': 1, 'GTCTA': 1, 'AACCC': 1, 'GTTAT': 1, 'ATTAA': 1, 'ATAGC': 1, 'ATTCG': 1, 'TAGAT': 1, 'TTGCT': 1, 'CCGTA': 1, 'GGTAG': 1, 'TACGT': 1, 'AAACT': 1, 'GAGTA': 1, 'TCTCA': 1, 'GGATT': 1, 'TGACA': 1, 'AGACA': 1, 'CGACT': 1, 'GAGCT': 1, 'TCTGC': 1, 'TCAAA': 1, 'ACCTA': 1, 'CACAG': 1, 'ATGAT': 1, 'TATTC': 1, 'AGGAG': 1, 'CCTCA': 1, 'CGTAT': 1, 'TGGCT': 1, 'CAACC': 1, 'TCGCT': 1, 'GAGAA': 1, 'TCGTA': 1, 'TTTTA': 1, 'GAATA': 1, 'AGGGG': 1, 'ACAAT': 1, 'TGCTT': 1, 'GGTTG': 1, 'TGCTA': 1, 'GTCTG': 1, 'TACCT': 1, 'TTTCT': 1, 'GTTGG': 1, 'CATAG': 1, 'ACTAC': 1, 'ATGAC': 1, 'AGATC': 1, 'GACTG': 1, 'ACACG': 1, 'GACTT': 1, 'TAACC': 1, 'CGTAG': 1, 'CTCCT': 1, 'GTAGA': 1, 'ATATT': 1, 'CCAGT': 1, 'TGAAT': 1, 'TTATC': 1, 'TCACT': 1, 'AGA': 1, 'CACAA': 1, 'CAAAT': 1, 'TGGCA': 1, 'AAAGG': 1, 'TCGTT': 1, 'ACAAA': 1, 'CACAC': 1, 'TGGGG': 1, 'TTTGC': 1, 'GATCC': 1, 'CAGGG': 1, 'ACAAG': 1, 'CTCAC': 1, 'ACTTG': 1, 'AACTA': 1, 'TACAC': 1, 'GAGTT': 1, 'AGCTG': 1, 'AACAT': 1, 'ACGGA': 1, 'CTTCA': 1, 'TAGCC': 1, 'ATGTG': 1, 'CATCT': 1, 'CCCAA': 1, 'ATACG': 1, 'GTCAA': 1, 'GAGGA': 1, 'CAAGT': 1, 'TCCCA': 1, 'CCACA': 1, 'ACCCT': 1, 'ACCTT': 1, 'ACTTT': 1, 'ATCTA': 1, 'CTTCT': 1, 'AAACA': 1, 'CAGTA': 1, 'GCTAT': 1, 'AGACT': 1, 'GATTC': 1, 'AGGAT': 1, 'TGGAG': 1, 'GCCCT': 1, 'CCCCT': 1, 'TATCG': 1, 'CACTC': 1, 'AAGGG': 1, 'ATATC': 1, 'GCTTT': 1, 'AATGA': 1, 'CTGTT': 1, 'TGAAA': 1, 'AGTTT': 1, 'TGTGT': 1, 'ATAGA': 1, 'GTGCT': 1, 'TGCCC': 1, 'TTACC': 1, 'TGCCA': 1, 'TTGTG': 1, 'TGTAC': 1, 'AAACC': 1, 'ATGGT': 1, 'CCCGT': 1, 'AAGTC': 1, 'AGTTG': 1, 'TTGGC': 1, 'TATCC': 1, 'ATTCC': 1, 'TAAAA': 1, 'CACAT': 1, 'ACAAC': 1, 'CAAAG': 1, 'CGATA': 1, 'TCAGT': 1, 'CCAAA': 1, 'ACTGT': 1, 'GGGCA': 1, 'TACAA': 1, 'ATTCA': 1, 'TCCTT': 1, 'TTGTT': 1, 'GGGTG': 1, 'GTTTT': 1, 'ACACA': 1, 'CTTGC': 1, 'TCGGA': 1, 'CTTGT': 1, 'CCCCA': 1, 'ACCCC': 1, 'ATACA': 1, 'GTGTT': 1, 'ACGTG': 1, 'AATAC': 1, 'GGTAA': 1, 'TGGTG': 1, 'TCTAT': 1, 'TCCAC': 1, 'GATAG': 1, 'TTCCA': 1, 'CTGAT': 1, 'TGATT': 1, 'ATTGT': 1, 'CAGTG': 1, 'GGAGG': 1, 'GAATT': 1, 'AGTCG': 1, 'GTAGC': 1, 'TCCGT': 1, 'GCTTG': 1, 'AATTA': 1, 'TTCCC': 1, 'AGTTC': 1, 'TCTAC': 1, 'CTGAG': 1, 'AACTG': 1, 'ACTTC': 1, 'TTAAA': 1, 'AATTC': 1, 'TAGCA': 1, 'AAATT': 1, 'AAGAA': 1, 'TGCAT': 1, 'TGAGA': 1, 'AGATT': 1, 'AGTGA': 1, 'TGTTT': 1, 'GGTAT': 1})\n"
          ],
          "name": "stdout"
        }
      ]
    },
    {
      "cell_type": "code",
      "metadata": {
        "id": "LznLaNnOpBYn",
        "outputId": "c38e78b6-c35d-41d9-b7b0-4712f5b33431",
        "colab": {
          "base_uri": "https://localhost:8080/",
          "height": 1000
        }
      },
      "source": [
        "#Parse Blast result\n",
        "from Bio.Blast import NCBIXML\n",
        "blast_record = NCBIXML.read(result_handle)\n",
        "\n",
        "E = 0.01\n",
        "for alignment in blast_record.alignments:\n",
        "  for hsp in alignment.hsps:\n",
        "    if hsp.expect < E:\n",
        "      print(\"****ALIGNMENT****\")\n",
        "      print(\"Sequence: \", alignment.title)\n",
        "      print(\"Length: \", alignment.length)\n",
        "      print(\"e value: \", hsp.expect)\n",
        "      print(hsp.query)\n",
        "      print(hsp.match)\n",
        "      print(hsp.sbjct)\n"
      ],
      "execution_count": null,
      "outputs": [
        {
          "output_type": "stream",
          "text": [
            "****ALIGNMENT****\n",
            "Sequence:  gi|1783584753|gb|MN651324.1| Nicotiana tabacum strain zhongyan90 cytoplasmic male sterility(CMS) line cultivar MSzhongyan90 mitochondrion, complete genome\n",
            "Length:  530869\n",
            "e value:  5.81253e-96\n",
            "TGGGCCTCATATTTATCCTATATACCATGTTCGTATGGTGGCGCGATGTTCTACGTGAATCCACGTTCGAAGGACATCATACCAAAGTCGTACAATTAGGACCTCGATATGGTTTTATTCTGTTTATCGTATCGGAGGTTATGTTCTTTTTTGCTCTTTTTCGGGCTTCTTCTCATTCTTCTTTGGCACCTACGGTAGAG\n",
            "||||||||||||||||||||||||||||||||||||||||||||||||||||||||||||||||||||||||||||||||||||||||||||||||||||||||||||||||||||||||||||||||||||||||||||||||||||||||||||||||||||||||||||||||||||||||||||||||||||||||\n",
            "TGGGCCTCATATTTATCCTATATACCATGTTCGTATGGTGGCGCGATGTTCTACGTGAATCCACGTTCGAAGGACATCATACCAAAGTCGTACAATTAGGACCTCGATATGGTTTTATTCTGTTTATCGTATCGGAGGTTATGTTCTTTTTTGCTCTTTTTCGGGCTTCTTCTCATTCTTCTTTGGCACCTACGGTAGAG\n",
            "****ALIGNMENT****\n",
            "Sequence:  gi|1783584659|gb|MN651323.1| Nicotiana tabacum strain zhongyan90 maintainer line cultivar zhongyan90 mitochondrion, complete genome\n",
            "Length:  472218\n",
            "e value:  5.81253e-96\n",
            "TGGGCCTCATATTTATCCTATATACCATGTTCGTATGGTGGCGCGATGTTCTACGTGAATCCACGTTCGAAGGACATCATACCAAAGTCGTACAATTAGGACCTCGATATGGTTTTATTCTGTTTATCGTATCGGAGGTTATGTTCTTTTTTGCTCTTTTTCGGGCTTCTTCTCATTCTTCTTTGGCACCTACGGTAGAG\n",
            "||||||||||||||||||||||||||||||||||||||||||||||||||||||||||||||||||||||||||||||||||||||||||||||||||||||||||||||||||||||||||||||||||||||||||||||||||||||||||||||||||||||||||||||||||||||||||||||||||||||||\n",
            "TGGGCCTCATATTTATCCTATATACCATGTTCGTATGGTGGCGCGATGTTCTACGTGAATCCACGTTCGAAGGACATCATACCAAAGTCGTACAATTAGGACCTCGATATGGTTTTATTCTGTTTATCGTATCGGAGGTTATGTTCTTTTTTGCTCTTTTTCGGGCTTCTTCTCATTCTTCTTTGGCACCTACGGTAGAG\n",
            "****ALIGNMENT****\n",
            "Sequence:  gi|1783584536|gb|MN651322.1| Nicotiana tabacum strain yunyan85 cytoplasmic male sterility(CMS) line cultivar MSyunyan85 mitochondrion, complete genome\n",
            "Length:  468288\n",
            "e value:  5.81253e-96\n",
            "TGGGCCTCATATTTATCCTATATACCATGTTCGTATGGTGGCGCGATGTTCTACGTGAATCCACGTTCGAAGGACATCATACCAAAGTCGTACAATTAGGACCTCGATATGGTTTTATTCTGTTTATCGTATCGGAGGTTATGTTCTTTTTTGCTCTTTTTCGGGCTTCTTCTCATTCTTCTTTGGCACCTACGGTAGAG\n",
            "||||||||||||||||||||||||||||||||||||||||||||||||||||||||||||||||||||||||||||||||||||||||||||||||||||||||||||||||||||||||||||||||||||||||||||||||||||||||||||||||||||||||||||||||||||||||||||||||||||||||\n",
            "TGGGCCTCATATTTATCCTATATACCATGTTCGTATGGTGGCGCGATGTTCTACGTGAATCCACGTTCGAAGGACATCATACCAAAGTCGTACAATTAGGACCTCGATATGGTTTTATTCTGTTTATCGTATCGGAGGTTATGTTCTTTTTTGCTCTTTTTCGGGCTTCTTCTCATTCTTCTTTGGCACCTACGGTAGAG\n",
            "****ALIGNMENT****\n",
            "Sequence:  gi|1783584454|gb|MN651321.1| Nicotiana tabacum cultivar Yunyan85 mitochondrion, complete genome\n",
            "Length:  430974\n",
            "e value:  5.81253e-96\n",
            "TGGGCCTCATATTTATCCTATATACCATGTTCGTATGGTGGCGCGATGTTCTACGTGAATCCACGTTCGAAGGACATCATACCAAAGTCGTACAATTAGGACCTCGATATGGTTTTATTCTGTTTATCGTATCGGAGGTTATGTTCTTTTTTGCTCTTTTTCGGGCTTCTTCTCATTCTTCTTTGGCACCTACGGTAGAG\n",
            "||||||||||||||||||||||||||||||||||||||||||||||||||||||||||||||||||||||||||||||||||||||||||||||||||||||||||||||||||||||||||||||||||||||||||||||||||||||||||||||||||||||||||||||||||||||||||||||||||||||||\n",
            "TGGGCCTCATATTTATCCTATATACCATGTTCGTATGGTGGCGCGATGTTCTACGTGAATCCACGTTCGAAGGACATCATACCAAAGTCGTACAATTAGGACCTCGATATGGTTTTATTCTGTTTATCGTATCGGAGGTTATGTTCTTTTTTGCTCTTTTTCGGGCTTCTTCTCATTCTTCTTTGGCACCTACGGTAGAG\n",
            "****ALIGNMENT****\n",
            "Sequence:  gi|1741436215|gb|MH168703.1| Nicotiana tabacum/Hyoscyamus niger cybrid isolate rcMv-1-1g_c2 mitochondrion, complete sequence\n",
            "Length:  266490\n",
            "e value:  5.81253e-96\n",
            "TGGGCCTCATATTTATCCTATATACCATGTTCGTATGGTGGCGCGATGTTCTACGTGAATCCACGTTCGAAGGACATCATACCAAAGTCGTACAATTAGGACCTCGATATGGTTTTATTCTGTTTATCGTATCGGAGGTTATGTTCTTTTTTGCTCTTTTTCGGGCTTCTTCTCATTCTTCTTTGGCACCTACGGTAGAG\n",
            "||||||||||||||||||||||||||||||||||||||||||||||||||||||||||||||||||||||||||||||||||||||||||||||||||||||||||||||||||||||||||||||||||||||||||||||||||||||||||||||||||||||||||||||||||||||||||||||||||||||||\n",
            "TGGGCCTCATATTTATCCTATATACCATGTTCGTATGGTGGCGCGATGTTCTACGTGAATCCACGTTCGAAGGACATCATACCAAAGTCGTACAATTAGGACCTCGATATGGTTTTATTCTGTTTATCGTATCGGAGGTTATGTTCTTTTTTGCTCTTTTTCGGGCTTCTTCTCATTCTTCTTTGGCACCTACGGTAGAG\n",
            "****ALIGNMENT****\n",
            "Sequence:  gi|1241191387|gb|MF579563.1| Nicotiana attenuata mitochondrion, complete genome\n",
            "Length:  394341\n",
            "e value:  5.81253e-96\n",
            "TGGGCCTCATATTTATCCTATATACCATGTTCGTATGGTGGCGCGATGTTCTACGTGAATCCACGTTCGAAGGACATCATACCAAAGTCGTACAATTAGGACCTCGATATGGTTTTATTCTGTTTATCGTATCGGAGGTTATGTTCTTTTTTGCTCTTTTTCGGGCTTCTTCTCATTCTTCTTTGGCACCTACGGTAGAG\n",
            "||||||||||||||||||||||||||||||||||||||||||||||||||||||||||||||||||||||||||||||||||||||||||||||||||||||||||||||||||||||||||||||||||||||||||||||||||||||||||||||||||||||||||||||||||||||||||||||||||||||||\n",
            "TGGGCCTCATATTTATCCTATATACCATGTTCGTATGGTGGCGCGATGTTCTACGTGAATCCACGTTCGAAGGACATCATACCAAAGTCGTACAATTAGGACCTCGATATGGTTTTATTCTGTTTATCGTATCGGAGGTTATGTTCTTTTTTGCTCTTTTTCGGGCTTCTTCTCATTCTTCTTTGGCACCTACGGTAGAG\n",
            "****ALIGNMENT****\n",
            "Sequence:  gi|1008910429|gb|KT997964.1| Nicotiana sylvestris cultivar TW 137 mitochondrion, complete genome\n",
            "Length:  430597\n",
            "e value:  5.81253e-96\n",
            "TGGGCCTCATATTTATCCTATATACCATGTTCGTATGGTGGCGCGATGTTCTACGTGAATCCACGTTCGAAGGACATCATACCAAAGTCGTACAATTAGGACCTCGATATGGTTTTATTCTGTTTATCGTATCGGAGGTTATGTTCTTTTTTGCTCTTTTTCGGGCTTCTTCTCATTCTTCTTTGGCACCTACGGTAGAG\n",
            "||||||||||||||||||||||||||||||||||||||||||||||||||||||||||||||||||||||||||||||||||||||||||||||||||||||||||||||||||||||||||||||||||||||||||||||||||||||||||||||||||||||||||||||||||||||||||||||||||||||||\n",
            "TGGGCCTCATATTTATCCTATATACCATGTTCGTATGGTGGCGCGATGTTCTACGTGAATCCACGTTCGAAGGACATCATACCAAAGTCGTACAATTAGGACCTCGATATGGTTTTATTCTGTTTATCGTATCGGAGGTTATGTTCTTTTTTGCTCTTTTTCGGGCTTCTTCTCATTCTTCTTTGGCACCTACGGTAGAG\n",
            "****ALIGNMENT****\n",
            "Sequence:  gi|927029471|gb|KR780036.1| Nicotiana tabacum cultivar zhongyan 100 mitochondrion, complete genome\n",
            "Length:  430863\n",
            "e value:  5.81253e-96\n",
            "TGGGCCTCATATTTATCCTATATACCATGTTCGTATGGTGGCGCGATGTTCTACGTGAATCCACGTTCGAAGGACATCATACCAAAGTCGTACAATTAGGACCTCGATATGGTTTTATTCTGTTTATCGTATCGGAGGTTATGTTCTTTTTTGCTCTTTTTCGGGCTTCTTCTCATTCTTCTTTGGCACCTACGGTAGAG\n",
            "||||||||||||||||||||||||||||||||||||||||||||||||||||||||||||||||||||||||||||||||||||||||||||||||||||||||||||||||||||||||||||||||||||||||||||||||||||||||||||||||||||||||||||||||||||||||||||||||||||||||\n",
            "TGGGCCTCATATTTATCCTATATACCATGTTCGTATGGTGGCGCGATGTTCTACGTGAATCCACGTTCGAAGGACATCATACCAAAGTCGTACAATTAGGACCTCGATATGGTTTTATTCTGTTTATCGTATCGGAGGTTATGTTCTTTTTTGCTCTTTTTCGGGCTTCTTCTCATTCTTCTTTGGCACCTACGGTAGAG\n",
            "****ALIGNMENT****\n",
            "Sequence:  gi|916446276|gb|KT179379.1| Evolvulus nuttallianus voucher Aust 160 cytochrome c oxidase subunit 3 (coxIII) gene, complete cds; mitochondrial\n",
            "Length:  798\n",
            "e value:  5.81253e-96\n",
            "TGGGCCTCATATTTATCCTATATACCATGTTCGTATGGTGGCGCGATGTTCTACGTGAATCCACGTTCGAAGGACATCATACCAAAGTCGTACAATTAGGACCTCGATATGGTTTTATTCTGTTTATCGTATCGGAGGTTATGTTCTTTTTTGCTCTTTTTCGGGCTTCTTCTCATTCTTCTTTGGCACCTACGGTAGAG\n",
            "||||||||||||||||||||||||||||||||||||||||||||||||||||||||||||||||||||||||||||||||||||||||||||||||||||||||||||||||||||||||||||||||||||||||||||||||||||||||||||||||||||||||||||||||||||||||||||||||||||||||\n",
            "TGGGCCTCATATTTATCCTATATACCATGTTCGTATGGTGGCGCGATGTTCTACGTGAATCCACGTTCGAAGGACATCATACCAAAGTCGTACAATTAGGACCTCGATATGGTTTTATTCTGTTTATCGTATCGGAGGTTATGTTCTTTTTTGCTCTTTTTCGGGCTTCTTCTCATTCTTCTTTGGCACCTACGGTAGAG\n",
            "****ALIGNMENT****\n",
            "Sequence:  gi|756762107|gb|KM207679.1| Nicotiana tabacum/Hyoscyamus niger cybrid clone contig2 mitochondrion, complete sequence\n",
            "Length:  248768\n",
            "e value:  5.81253e-96\n",
            "TGGGCCTCATATTTATCCTATATACCATGTTCGTATGGTGGCGCGATGTTCTACGTGAATCCACGTTCGAAGGACATCATACCAAAGTCGTACAATTAGGACCTCGATATGGTTTTATTCTGTTTATCGTATCGGAGGTTATGTTCTTTTTTGCTCTTTTTCGGGCTTCTTCTCATTCTTCTTTGGCACCTACGGTAGAG\n",
            "||||||||||||||||||||||||||||||||||||||||||||||||||||||||||||||||||||||||||||||||||||||||||||||||||||||||||||||||||||||||||||||||||||||||||||||||||||||||||||||||||||||||||||||||||||||||||||||||||||||||\n",
            "TGGGCCTCATATTTATCCTATATACCATGTTCGTATGGTGGCGCGATGTTCTACGTGAATCCACGTTCGAAGGACATCATACCAAAGTCGTACAATTAGGACCTCGATATGGTTTTATTCTGTTTATCGTATCGGAGGTTATGTTCTTTTTTGCTCTTTTTCGGGCTTCTTCTCATTCTTCTTTGGCACCTACGGTAGAG\n",
            "****ALIGNMENT****\n",
            "Sequence:  gi|698585445|ref|XM_009780350.1| PREDICTED: Nicotiana sylvestris cytochrome c oxidase subunit 3 (LOC104227970), mRNA\n",
            "Length:  1334\n",
            "e value:  5.81253e-96\n",
            "TGGGCCTCATATTTATCCTATATACCATGTTCGTATGGTGGCGCGATGTTCTACGTGAATCCACGTTCGAAGGACATCATACCAAAGTCGTACAATTAGGACCTCGATATGGTTTTATTCTGTTTATCGTATCGGAGGTTATGTTCTTTTTTGCTCTTTTTCGGGCTTCTTCTCATTCTTCTTTGGCACCTACGGTAGAG\n",
            "||||||||||||||||||||||||||||||||||||||||||||||||||||||||||||||||||||||||||||||||||||||||||||||||||||||||||||||||||||||||||||||||||||||||||||||||||||||||||||||||||||||||||||||||||||||||||||||||||||||||\n",
            "TGGGCCTCATATTTATCCTATATACCATGTTCGTATGGTGGCGCGATGTTCTACGTGAATCCACGTTCGAAGGACATCATACCAAAGTCGTACAATTAGGACCTCGATATGGTTTTATTCTGTTTATCGTATCGGAGGTTATGTTCTTTTTTGCTCTTTTTCGGGCTTCTTCTCATTCTTCTTTGGCACCTACGGTAGAG\n",
            "****ALIGNMENT****\n",
            "Sequence:  gi|1904806381|ref|NC_050335.1| Solanum aethiopicum isolate NN4 mitochondrion, complete genome\n",
            "Length:  566695\n",
            "e value:  5.81253e-96\n",
            "TGGGCCTCATATTTATCCTATATACCATGTTCGTATGGTGGCGCGATGTTCTACGTGAATCCACGTTCGAAGGACATCATACCAAAGTCGTACAATTAGGACCTCGATATGGTTTTATTCTGTTTATCGTATCGGAGGTTATGTTCTTTTTTGCTCTTTTTCGGGCTTCTTCTCATTCTTCTTTGGCACCTACGGTAGAG\n",
            "||||||||||||||||||||||||||||||||||||||||||||||||||||||||||||||||||||||||||||||||||||||||||||||||||||||||||||||||||||||||||||||||||||||||||||||||||||||||||||||||||||||||||||||||||||||||||||||||||||||||\n",
            "TGGGCCTCATATTTATCCTATATACCATGTTCGTATGGTGGCGCGATGTTCTACGTGAATCCACGTTCGAAGGACATCATACCAAAGTCGTACAATTAGGACCTCGATATGGTTTTATTCTGTTTATCGTATCGGAGGTTATGTTCTTTTTTGCTCTTTTTCGGGCTTCTTCTCATTCTTCTTTGGCACCTACGGTAGAG\n",
            "****ALIGNMENT****\n",
            "Sequence:  gi|1904806331|ref|NC_050334.1| Solanum melongena isolate NN20 mitochondrion, complete genome\n",
            "Length:  482343\n",
            "e value:  5.81253e-96\n",
            "TGGGCCTCATATTTATCCTATATACCATGTTCGTATGGTGGCGCGATGTTCTACGTGAATCCACGTTCGAAGGACATCATACCAAAGTCGTACAATTAGGACCTCGATATGGTTTTATTCTGTTTATCGTATCGGAGGTTATGTTCTTTTTTGCTCTTTTTCGGGCTTCTTCTCATTCTTCTTTGGCACCTACGGTAGAG\n",
            "||||||||||||||||||||||||||||||||||||||||||||||||||||||||||||||||||||||||||||||||||||||||||||||||||||||||||||||||||||||||||||||||||||||||||||||||||||||||||||||||||||||||||||||||||||||||||||||||||||||||\n",
            "TGGGCCTCATATTTATCCTATATACCATGTTCGTATGGTGGCGCGATGTTCTACGTGAATCCACGTTCGAAGGACATCATACCAAAGTCGTACAATTAGGACCTCGATATGGTTTTATTCTGTTTATCGTATCGGAGGTTATGTTCTTTTTTGCTCTTTTTCGGGCTTCTTCTCATTCTTCTTTGGCACCTACGGTAGAG\n",
            "****ALIGNMENT****\n",
            "Sequence:  gi|1883212036|gb|MT122988.1| Solanum aethiopicum isolate NN3 mitochondrion, complete genome\n",
            "Length:  551339\n",
            "e value:  5.81253e-96\n",
            "TGGGCCTCATATTTATCCTATATACCATGTTCGTATGGTGGCGCGATGTTCTACGTGAATCCACGTTCGAAGGACATCATACCAAAGTCGTACAATTAGGACCTCGATATGGTTTTATTCTGTTTATCGTATCGGAGGTTATGTTCTTTTTTGCTCTTTTTCGGGCTTCTTCTCATTCTTCTTTGGCACCTACGGTAGAG\n",
            "||||||||||||||||||||||||||||||||||||||||||||||||||||||||||||||||||||||||||||||||||||||||||||||||||||||||||||||||||||||||||||||||||||||||||||||||||||||||||||||||||||||||||||||||||||||||||||||||||||||||\n",
            "TGGGCCTCATATTTATCCTATATACCATGTTCGTATGGTGGCGCGATGTTCTACGTGAATCCACGTTCGAAGGACATCATACCAAAGTCGTACAATTAGGACCTCGATATGGTTTTATTCTGTTTATCGTATCGGAGGTTATGTTCTTTTTTGCTCTTTTTCGGGCTTCTTCTCATTCTTCTTTGGCACCTACGGTAGAG\n",
            "****ALIGNMENT****\n",
            "Sequence:  gi|1883211983|gb|MT122986.1| Solanum melongena isolate NN5 chromosome 1 mitochondrion, complete sequence\n",
            "Length:  363658\n",
            "e value:  5.81253e-96\n",
            "TGGGCCTCATATTTATCCTATATACCATGTTCGTATGGTGGCGCGATGTTCTACGTGAATCCACGTTCGAAGGACATCATACCAAAGTCGTACAATTAGGACCTCGATATGGTTTTATTCTGTTTATCGTATCGGAGGTTATGTTCTTTTTTGCTCTTTTTCGGGCTTCTTCTCATTCTTCTTTGGCACCTACGGTAGAG\n",
            "||||||||||||||||||||||||||||||||||||||||||||||||||||||||||||||||||||||||||||||||||||||||||||||||||||||||||||||||||||||||||||||||||||||||||||||||||||||||||||||||||||||||||||||||||||||||||||||||||||||||\n",
            "TGGGCCTCATATTTATCCTATATACCATGTTCGTATGGTGGCGCGATGTTCTACGTGAATCCACGTTCGAAGGACATCATACCAAAGTCGTACAATTAGGACCTCGATATGGTTTTATTCTGTTTATCGTATCGGAGGTTATGTTCTTTTTTGCTCTTTTTCGGGCTTCTTCTCATTCTTCTTTGGCACCTACGGTAGAG\n",
            "****ALIGNMENT****\n",
            "Sequence:  gi|1883211930|gb|MT122984.1| Solanum melongena isolate NN10 chromosome 1 mitochondrion, complete sequence\n",
            "Length:  363632\n",
            "e value:  5.81253e-96\n",
            "TGGGCCTCATATTTATCCTATATACCATGTTCGTATGGTGGCGCGATGTTCTACGTGAATCCACGTTCGAAGGACATCATACCAAAGTCGTACAATTAGGACCTCGATATGGTTTTATTCTGTTTATCGTATCGGAGGTTATGTTCTTTTTTGCTCTTTTTCGGGCTTCTTCTCATTCTTCTTTGGCACCTACGGTAGAG\n",
            "||||||||||||||||||||||||||||||||||||||||||||||||||||||||||||||||||||||||||||||||||||||||||||||||||||||||||||||||||||||||||||||||||||||||||||||||||||||||||||||||||||||||||||||||||||||||||||||||||||||||\n",
            "TGGGCCTCATATTTATCCTATATACCATGTTCGTATGGTGGCGCGATGTTCTACGTGAATCCACGTTCGAAGGACATCATACCAAAGTCGTACAATTAGGACCTCGATATGGTTTTATTCTGTTTATCGTATCGGAGGTTATGTTCTTTTTTGCTCTTTTTCGGGCTTCTTCTCATTCTTCTTTGGCACCTACGGTAGAG\n",
            "****ALIGNMENT****\n",
            "Sequence:  gi|1883211881|gb|MT122982.1| Solanum anguivi isolate NN13 chromosome 1 mitochondrion, complete sequence\n",
            "Length:  245759\n",
            "e value:  5.81253e-96\n",
            "TGGGCCTCATATTTATCCTATATACCATGTTCGTATGGTGGCGCGATGTTCTACGTGAATCCACGTTCGAAGGACATCATACCAAAGTCGTACAATTAGGACCTCGATATGGTTTTATTCTGTTTATCGTATCGGAGGTTATGTTCTTTTTTGCTCTTTTTCGGGCTTCTTCTCATTCTTCTTTGGCACCTACGGTAGAG\n",
            "||||||||||||||||||||||||||||||||||||||||||||||||||||||||||||||||||||||||||||||||||||||||||||||||||||||||||||||||||||||||||||||||||||||||||||||||||||||||||||||||||||||||||||||||||||||||||||||||||||||||\n",
            "TGGGCCTCATATTTATCCTATATACCATGTTCGTATGGTGGCGCGATGTTCTACGTGAATCCACGTTCGAAGGACATCATACCAAAGTCGTACAATTAGGACCTCGATATGGTTTTATTCTGTTTATCGTATCGGAGGTTATGTTCTTTTTTGCTCTTTTTCGGGCTTCTTCTCATTCTTCTTTGGCACCTACGGTAGAG\n",
            "****ALIGNMENT****\n",
            "Sequence:  gi|1883211832|gb|MT122980.1| Solanum anguivi isolate NN14 chromosome 1 mitochondrion, complete sequence\n",
            "Length:  245426\n",
            "e value:  5.81253e-96\n",
            "TGGGCCTCATATTTATCCTATATACCATGTTCGTATGGTGGCGCGATGTTCTACGTGAATCCACGTTCGAAGGACATCATACCAAAGTCGTACAATTAGGACCTCGATATGGTTTTATTCTGTTTATCGTATCGGAGGTTATGTTCTTTTTTGCTCTTTTTCGGGCTTCTTCTCATTCTTCTTTGGCACCTACGGTAGAG\n",
            "||||||||||||||||||||||||||||||||||||||||||||||||||||||||||||||||||||||||||||||||||||||||||||||||||||||||||||||||||||||||||||||||||||||||||||||||||||||||||||||||||||||||||||||||||||||||||||||||||||||||\n",
            "TGGGCCTCATATTTATCCTATATACCATGTTCGTATGGTGGCGCGATGTTCTACGTGAATCCACGTTCGAAGGACATCATACCAAAGTCGTACAATTAGGACCTCGATATGGTTTTATTCTGTTTATCGTATCGGAGGTTATGTTCTTTTTTGCTCTTTTTCGGGCTTCTTCTCATTCTTCTTTGGCACCTACGGTAGAG\n",
            "****ALIGNMENT****\n",
            "Sequence:  gi|1883211730|gb|MT122977.1| Solanum aethiopicum isolate NN1 mitochondrion, complete genome\n",
            "Length:  566477\n",
            "e value:  5.81253e-96\n",
            "TGGGCCTCATATTTATCCTATATACCATGTTCGTATGGTGGCGCGATGTTCTACGTGAATCCACGTTCGAAGGACATCATACCAAAGTCGTACAATTAGGACCTCGATATGGTTTTATTCTGTTTATCGTATCGGAGGTTATGTTCTTTTTTGCTCTTTTTCGGGCTTCTTCTCATTCTTCTTTGGCACCTACGGTAGAG\n",
            "||||||||||||||||||||||||||||||||||||||||||||||||||||||||||||||||||||||||||||||||||||||||||||||||||||||||||||||||||||||||||||||||||||||||||||||||||||||||||||||||||||||||||||||||||||||||||||||||||||||||\n",
            "TGGGCCTCATATTTATCCTATATACCATGTTCGTATGGTGGCGCGATGTTCTACGTGAATCCACGTTCGAAGGACATCATACCAAAGTCGTACAATTAGGACCTCGATATGGTTTTATTCTGTTTATCGTATCGGAGGTTATGTTCTTTTTTGCTCTTTTTCGGGCTTCTTCTCATTCTTCTTTGGCACCTACGGTAGAG\n",
            "****ALIGNMENT****\n",
            "Sequence:  gi|1883211677|gb|MT122975.1| Solanum melongena isolate NN18 chromosome 1 mitochondrion, complete sequence\n",
            "Length:  363654\n",
            "e value:  5.81253e-96\n",
            "TGGGCCTCATATTTATCCTATATACCATGTTCGTATGGTGGCGCGATGTTCTACGTGAATCCACGTTCGAAGGACATCATACCAAAGTCGTACAATTAGGACCTCGATATGGTTTTATTCTGTTTATCGTATCGGAGGTTATGTTCTTTTTTGCTCTTTTTCGGGCTTCTTCTCATTCTTCTTTGGCACCTACGGTAGAG\n",
            "||||||||||||||||||||||||||||||||||||||||||||||||||||||||||||||||||||||||||||||||||||||||||||||||||||||||||||||||||||||||||||||||||||||||||||||||||||||||||||||||||||||||||||||||||||||||||||||||||||||||\n",
            "TGGGCCTCATATTTATCCTATATACCATGTTCGTATGGTGGCGCGATGTTCTACGTGAATCCACGTTCGAAGGACATCATACCAAAGTCGTACAATTAGGACCTCGATATGGTTTTATTCTGTTTATCGTATCGGAGGTTATGTTCTTTTTTGCTCTTTTTCGGGCTTCTTCTCATTCTTCTTTGGCACCTACGGTAGAG\n",
            "****ALIGNMENT****\n",
            "Sequence:  gi|1883211652|gb|MT122974.1| Solanum aethiopicum isolate NN2 chromosome 2 mitochondrion, complete sequence\n",
            "Length:  244006\n",
            "e value:  5.81253e-96\n",
            "TGGGCCTCATATTTATCCTATATACCATGTTCGTATGGTGGCGCGATGTTCTACGTGAATCCACGTTCGAAGGACATCATACCAAAGTCGTACAATTAGGACCTCGATATGGTTTTATTCTGTTTATCGTATCGGAGGTTATGTTCTTTTTTGCTCTTTTTCGGGCTTCTTCTCATTCTTCTTTGGCACCTACGGTAGAG\n",
            "||||||||||||||||||||||||||||||||||||||||||||||||||||||||||||||||||||||||||||||||||||||||||||||||||||||||||||||||||||||||||||||||||||||||||||||||||||||||||||||||||||||||||||||||||||||||||||||||||||||||\n",
            "TGGGCCTCATATTTATCCTATATACCATGTTCGTATGGTGGCGCGATGTTCTACGTGAATCCACGTTCGAAGGACATCATACCAAAGTCGTACAATTAGGACCTCGATATGGTTTTATTCTGTTTATCGTATCGGAGGTTATGTTCTTTTTTGCTCTTTTTCGGGCTTCTTCTCATTCTTCTTTGGCACCTACGGTAGAG\n",
            "****ALIGNMENT****\n",
            "Sequence:  gi|1883211572|gb|MT122970.1| Solanum macrocarpon isolate NN6 chromosome 1 mitochondrion, complete sequence\n",
            "Length:  481443\n",
            "e value:  5.81253e-96\n",
            "TGGGCCTCATATTTATCCTATATACCATGTTCGTATGGTGGCGCGATGTTCTACGTGAATCCACGTTCGAAGGACATCATACCAAAGTCGTACAATTAGGACCTCGATATGGTTTTATTCTGTTTATCGTATCGGAGGTTATGTTCTTTTTTGCTCTTTTTCGGGCTTCTTCTCATTCTTCTTTGGCACCTACGGTAGAG\n",
            "||||||||||||||||||||||||||||||||||||||||||||||||||||||||||||||||||||||||||||||||||||||||||||||||||||||||||||||||||||||||||||||||||||||||||||||||||||||||||||||||||||||||||||||||||||||||||||||||||||||||\n",
            "TGGGCCTCATATTTATCCTATATACCATGTTCGTATGGTGGCGCGATGTTCTACGTGAATCCACGTTCGAAGGACATCATACCAAAGTCGTACAATTAGGACCTCGATATGGTTTTATTCTGTTTATCGTATCGGAGGTTATGTTCTTTTTTGCTCTTTTTCGGGCTTCTTCTCATTCTTCTTTGGCACCTACGGTAGAG\n",
            "****ALIGNMENT****\n",
            "Sequence:  gi|1883211523|gb|MT122969.1| Solanum aethiopicum isolate NN17 mitochondrion, complete genome\n",
            "Length:  566665\n",
            "e value:  5.81253e-96\n",
            "TGGGCCTCATATTTATCCTATATACCATGTTCGTATGGTGGCGCGATGTTCTACGTGAATCCACGTTCGAAGGACATCATACCAAAGTCGTACAATTAGGACCTCGATATGGTTTTATTCTGTTTATCGTATCGGAGGTTATGTTCTTTTTTGCTCTTTTTCGGGCTTCTTCTCATTCTTCTTTGGCACCTACGGTAGAG\n",
            "||||||||||||||||||||||||||||||||||||||||||||||||||||||||||||||||||||||||||||||||||||||||||||||||||||||||||||||||||||||||||||||||||||||||||||||||||||||||||||||||||||||||||||||||||||||||||||||||||||||||\n",
            "TGGGCCTCATATTTATCCTATATACCATGTTCGTATGGTGGCGCGATGTTCTACGTGAATCCACGTTCGAAGGACATCATACCAAAGTCGTACAATTAGGACCTCGATATGGTTTTATTCTGTTTATCGTATCGGAGGTTATGTTCTTTTTTGCTCTTTTTCGGGCTTCTTCTCATTCTTCTTTGGCACCTACGGTAGAG\n",
            "****ALIGNMENT****\n",
            "Sequence:  gi|1883211471|gb|MT122967.1| Solanum melongena isolate NN7 chromosome 1 mitochondrion, complete sequence\n",
            "Length:  369496\n",
            "e value:  5.81253e-96\n",
            "TGGGCCTCATATTTATCCTATATACCATGTTCGTATGGTGGCGCGATGTTCTACGTGAATCCACGTTCGAAGGACATCATACCAAAGTCGTACAATTAGGACCTCGATATGGTTTTATTCTGTTTATCGTATCGGAGGTTATGTTCTTTTTTGCTCTTTTTCGGGCTTCTTCTCATTCTTCTTTGGCACCTACGGTAGAG\n",
            "||||||||||||||||||||||||||||||||||||||||||||||||||||||||||||||||||||||||||||||||||||||||||||||||||||||||||||||||||||||||||||||||||||||||||||||||||||||||||||||||||||||||||||||||||||||||||||||||||||||||\n",
            "TGGGCCTCATATTTATCCTATATACCATGTTCGTATGGTGGCGCGATGTTCTACGTGAATCCACGTTCGAAGGACATCATACCAAAGTCGTACAATTAGGACCTCGATATGGTTTTATTCTGTTTATCGTATCGGAGGTTATGTTCTTTTTTGCTCTTTTTCGGGCTTCTTCTCATTCTTCTTTGGCACCTACGGTAGAG\n",
            "****ALIGNMENT****\n",
            "Sequence:  gi|1883211427|gb|MT122966.1| Solanum aethiopicum isolate NN4 mitochondrion, complete genome\n",
            "Length:  566695\n",
            "e value:  5.81253e-96\n",
            "TGGGCCTCATATTTATCCTATATACCATGTTCGTATGGTGGCGCGATGTTCTACGTGAATCCACGTTCGAAGGACATCATACCAAAGTCGTACAATTAGGACCTCGATATGGTTTTATTCTGTTTATCGTATCGGAGGTTATGTTCTTTTTTGCTCTTTTTCGGGCTTCTTCTCATTCTTCTTTGGCACCTACGGTAGAG\n",
            "||||||||||||||||||||||||||||||||||||||||||||||||||||||||||||||||||||||||||||||||||||||||||||||||||||||||||||||||||||||||||||||||||||||||||||||||||||||||||||||||||||||||||||||||||||||||||||||||||||||||\n",
            "TGGGCCTCATATTTATCCTATATACCATGTTCGTATGGTGGCGCGATGTTCTACGTGAATCCACGTTCGAAGGACATCATACCAAAGTCGTACAATTAGGACCTCGATATGGTTTTATTCTGTTTATCGTATCGGAGGTTATGTTCTTTTTTGCTCTTTTTCGGGCTTCTTCTCATTCTTCTTTGGCACCTACGGTAGAG\n",
            "****ALIGNMENT****\n",
            "Sequence:  gi|1883211333|gb|MT122963.1| Solanum melongena isolate NN19 mitochondrion, complete genome\n",
            "Length:  482344\n",
            "e value:  5.81253e-96\n",
            "TGGGCCTCATATTTATCCTATATACCATGTTCGTATGGTGGCGCGATGTTCTACGTGAATCCACGTTCGAAGGACATCATACCAAAGTCGTACAATTAGGACCTCGATATGGTTTTATTCTGTTTATCGTATCGGAGGTTATGTTCTTTTTTGCTCTTTTTCGGGCTTCTTCTCATTCTTCTTTGGCACCTACGGTAGAG\n",
            "||||||||||||||||||||||||||||||||||||||||||||||||||||||||||||||||||||||||||||||||||||||||||||||||||||||||||||||||||||||||||||||||||||||||||||||||||||||||||||||||||||||||||||||||||||||||||||||||||||||||\n",
            "TGGGCCTCATATTTATCCTATATACCATGTTCGTATGGTGGCGCGATGTTCTACGTGAATCCACGTTCGAAGGACATCATACCAAAGTCGTACAATTAGGACCTCGATATGGTTTTATTCTGTTTATCGTATCGGAGGTTATGTTCTTTTTTGCTCTTTTTCGGGCTTCTTCTCATTCTTCTTTGGCACCTACGGTAGAG\n",
            "****ALIGNMENT****\n",
            "Sequence:  gi|1883211284|gb|MT122962.1| Solanum melongena isolate NN20 mitochondrion, complete genome\n",
            "Length:  482343\n",
            "e value:  5.81253e-96\n",
            "TGGGCCTCATATTTATCCTATATACCATGTTCGTATGGTGGCGCGATGTTCTACGTGAATCCACGTTCGAAGGACATCATACCAAAGTCGTACAATTAGGACCTCGATATGGTTTTATTCTGTTTATCGTATCGGAGGTTATGTTCTTTTTTGCTCTTTTTCGGGCTTCTTCTCATTCTTCTTTGGCACCTACGGTAGAG\n",
            "||||||||||||||||||||||||||||||||||||||||||||||||||||||||||||||||||||||||||||||||||||||||||||||||||||||||||||||||||||||||||||||||||||||||||||||||||||||||||||||||||||||||||||||||||||||||||||||||||||||||\n",
            "TGGGCCTCATATTTATCCTATATACCATGTTCGTATGGTGGCGCGATGTTCTACGTGAATCCACGTTCGAAGGACATCATACCAAAGTCGTACAATTAGGACCTCGATATGGTTTTATTCTGTTTATCGTATCGGAGGTTATGTTCTTTTTTGCTCTTTTTCGGGCTTCTTCTCATTCTTCTTTGGCACCTACGGTAGAG\n",
            "****ALIGNMENT****\n",
            "Sequence:  gi|1883211235|gb|MT122960.1| Solanum melongena isolate NN8 chromosome 1 mitochondrion, complete sequence\n",
            "Length:  369512\n",
            "e value:  5.81253e-96\n",
            "TGGGCCTCATATTTATCCTATATACCATGTTCGTATGGTGGCGCGATGTTCTACGTGAATCCACGTTCGAAGGACATCATACCAAAGTCGTACAATTAGGACCTCGATATGGTTTTATTCTGTTTATCGTATCGGAGGTTATGTTCTTTTTTGCTCTTTTTCGGGCTTCTTCTCATTCTTCTTTGGCACCTACGGTAGAG\n",
            "||||||||||||||||||||||||||||||||||||||||||||||||||||||||||||||||||||||||||||||||||||||||||||||||||||||||||||||||||||||||||||||||||||||||||||||||||||||||||||||||||||||||||||||||||||||||||||||||||||||||\n",
            "TGGGCCTCATATTTATCCTATATACCATGTTCGTATGGTGGCGCGATGTTCTACGTGAATCCACGTTCGAAGGACATCATACCAAAGTCGTACAATTAGGACCTCGATATGGTTTTATTCTGTTTATCGTATCGGAGGTTATGTTCTTTTTTGCTCTTTTTCGGGCTTCTTCTCATTCTTCTTTGGCACCTACGGTAGAG\n",
            "****ALIGNMENT****\n",
            "Sequence:  gi|1883211137|gb|MT122956.1| Solanum melongena isolate NN11 chromosome 1 mitochondrion, complete sequence\n",
            "Length:  369476\n",
            "e value:  5.81253e-96\n",
            "TGGGCCTCATATTTATCCTATATACCATGTTCGTATGGTGGCGCGATGTTCTACGTGAATCCACGTTCGAAGGACATCATACCAAAGTCGTACAATTAGGACCTCGATATGGTTTTATTCTGTTTATCGTATCGGAGGTTATGTTCTTTTTTGCTCTTTTTCGGGCTTCTTCTCATTCTTCTTTGGCACCTACGGTAGAG\n",
            "||||||||||||||||||||||||||||||||||||||||||||||||||||||||||||||||||||||||||||||||||||||||||||||||||||||||||||||||||||||||||||||||||||||||||||||||||||||||||||||||||||||||||||||||||||||||||||||||||||||||\n",
            "TGGGCCTCATATTTATCCTATATACCATGTTCGTATGGTGGCGCGATGTTCTACGTGAATCCACGTTCGAAGGACATCATACCAAAGTCGTACAATTAGGACCTCGATATGGTTTTATTCTGTTTATCGTATCGGAGGTTATGTTCTTTTTTGCTCTTTTTCGGGCTTCTTCTCATTCTTCTTTGGCACCTACGGTAGAG\n",
            "****ALIGNMENT****\n",
            "Sequence:  gi|1883211112|gb|MT122955.1| Solanum aethiopicum isolate NN16 chromosome 2 mitochondrion, complete sequence\n",
            "Length:  254845\n",
            "e value:  5.81253e-96\n",
            "TGGGCCTCATATTTATCCTATATACCATGTTCGTATGGTGGCGCGATGTTCTACGTGAATCCACGTTCGAAGGACATCATACCAAAGTCGTACAATTAGGACCTCGATATGGTTTTATTCTGTTTATCGTATCGGAGGTTATGTTCTTTTTTGCTCTTTTTCGGGCTTCTTCTCATTCTTCTTTGGCACCTACGGTAGAG\n",
            "||||||||||||||||||||||||||||||||||||||||||||||||||||||||||||||||||||||||||||||||||||||||||||||||||||||||||||||||||||||||||||||||||||||||||||||||||||||||||||||||||||||||||||||||||||||||||||||||||||||||\n",
            "TGGGCCTCATATTTATCCTATATACCATGTTCGTATGGTGGCGCGATGTTCTACGTGAATCCACGTTCGAAGGACATCATACCAAAGTCGTACAATTAGGACCTCGATATGGTTTTATTCTGTTTATCGTATCGGAGGTTATGTTCTTTTTTGCTCTTTTTCGGGCTTCTTCTCATTCTTCTTTGGCACCTACGGTAGAG\n",
            "****ALIGNMENT****\n",
            "Sequence:  gi|56806513|dbj|BA000042.1| Nicotiana tabacum mitochondrial DNA, complete genome\n",
            "Length:  430597\n",
            "e value:  5.81253e-96\n",
            "TGGGCCTCATATTTATCCTATATACCATGTTCGTATGGTGGCGCGATGTTCTACGTGAATCCACGTTCGAAGGACATCATACCAAAGTCGTACAATTAGGACCTCGATATGGTTTTATTCTGTTTATCGTATCGGAGGTTATGTTCTTTTTTGCTCTTTTTCGGGCTTCTTCTCATTCTTCTTTGGCACCTACGGTAGAG\n",
            "||||||||||||||||||||||||||||||||||||||||||||||||||||||||||||||||||||||||||||||||||||||||||||||||||||||||||||||||||||||||||||||||||||||||||||||||||||||||||||||||||||||||||||||||||||||||||||||||||||||||\n",
            "TGGGCCTCATATTTATCCTATATACCATGTTCGTATGGTGGCGCGATGTTCTACGTGAATCCACGTTCGAAGGACATCATACCAAAGTCGTACAATTAGGACCTCGATATGGTTTTATTCTGTTTATCGTATCGGAGGTTATGTTCTTTTTTGCTCTTTTTCGGGCTTCTTCTCATTCTTCTTTGGCACCTACGGTAGAG\n",
            "****ALIGNMENT****\n",
            "Sequence:  gi|1766779044|ref|XM_031238195.1| PREDICTED: Ipomoea triloba cytochrome c oxidase subunit 3 (LOC115998593), mRNA\n",
            "Length:  919\n",
            "e value:  2.47155e-94\n",
            "TGGGCCTCATATTTATCCTATATACCATGTTCGTATGGTGGCGCGATGTTCTACGTGAATCCACGTTCGAAGGACATCATACCAAAGTCGTACAATTAGGACCTCGATATGGTTTTATTCTGTTTATCGTATCGGAGGTTATGTTCTTTTTTGCTCTTTTTCGGGCTTCTTCTCATTCTTCTTTGGCACCTACGGTAGAG\n",
            "||||||||||||||||||||||||||||||||||||||||||||||||||||||| ||||||||||||||||||||||||||||||||||||||||||||||||||||||||||||||||||||||||||||||||||||||||||||||||||||||||||||||||||||||||||||||||||||||||||||||||\n",
            "TGGGCCTCATATTTATCCTATATACCATGTTCGTATGGTGGCGCGATGTTCTACGCGAATCCACGTTCGAAGGACATCATACCAAAGTCGTACAATTAGGACCTCGATATGGTTTTATTCTGTTTATCGTATCGGAGGTTATGTTCTTTTTTGCTCTTTTTCGGGCTTCTTCTCATTCTTCTTTGGCACCTACGGTAGAG\n",
            "****ALIGNMENT****\n",
            "Sequence:  gi|1746527329|gb|MN114538.1| Solanum tuberosum cultivar Cicero chromosome 2 mitochondrion, complete sequence\n",
            "Length:  112797\n",
            "e value:  2.47155e-94\n",
            "TGGGCCTCATATTTATCCTATATACCATGTTCGTATGGTGGCGCGATGTTCTACGTGAATCCACGTTCGAAGGACATCATACCAAAGTCGTACAATTAGGACCTCGATATGGTTTTATTCTGTTTATCGTATCGGAGGTTATGTTCTTTTTTGCTCTTTTTCGGGCTTCTTCTCATTCTTCTTTGGCACCTACGGTAGAG\n",
            "|||||||||||||| |||||||||||||||||||||||||||||||||||||||||||||||||||||||||||||||||||||||||||||||||||||||||||||||||||||||||||||||||||||||||||||||||||||||||||||||||||||||||||||||||||||||||||||||||||||||||\n",
            "TGGGCCTCATATTTCTCCTATATACCATGTTCGTATGGTGGCGCGATGTTCTACGTGAATCCACGTTCGAAGGACATCATACCAAAGTCGTACAATTAGGACCTCGATATGGTTTTATTCTGTTTATCGTATCGGAGGTTATGTTCTTTTTTGCTCTTTTTCGGGCTTCTTCTCATTCTTCTTTGGCACCTACGGTAGAG\n",
            "****ALIGNMENT****\n",
            "Sequence:  gi|1735073099|gb|MN104802.1| Solanum tuberosum cultivar Desiree chromosome 2 mitochondrion, complete sequence\n",
            "Length:  112800\n",
            "e value:  2.47155e-94\n",
            "TGGGCCTCATATTTATCCTATATACCATGTTCGTATGGTGGCGCGATGTTCTACGTGAATCCACGTTCGAAGGACATCATACCAAAGTCGTACAATTAGGACCTCGATATGGTTTTATTCTGTTTATCGTATCGGAGGTTATGTTCTTTTTTGCTCTTTTTCGGGCTTCTTCTCATTCTTCTTTGGCACCTACGGTAGAG\n",
            "|||||||||||||| |||||||||||||||||||||||||||||||||||||||||||||||||||||||||||||||||||||||||||||||||||||||||||||||||||||||||||||||||||||||||||||||||||||||||||||||||||||||||||||||||||||||||||||||||||||||||\n",
            "TGGGCCTCATATTTCTCCTATATACCATGTTCGTATGGTGGCGCGATGTTCTACGTGAATCCACGTTCGAAGGACATCATACCAAAGTCGTACAATTAGGACCTCGATATGGTTTTATTCTGTTTATCGTATCGGAGGTTATGTTCTTTTTTGCTCTTTTTCGGGCTTCTTCTCATTCTTCTTTGGCACCTACGGTAGAG\n",
            "****ALIGNMENT****\n",
            "Sequence:  gi|1714605623|ref|NC_044153.1| Physochlaina orientalis mitochondrion, complete genome\n",
            "Length:  684857\n",
            "e value:  2.47155e-94\n",
            "TGGGCCTCATATTTATCCTATATACCATGTTCGTATGGTGGCGCGATGTTCTACGTGAATCCACGTTCGAAGGACATCATACCAAAGTCGTACAATTAGGACCTCGATATGGTTTTATTCTGTTTATCGTATCGGAGGTTATGTTCTTTTTTGCTCTTTTTCGGGCTTCTTCTCATTCTTCTTTGGCACCTACGGTAGAG\n",
            "|||||||||||||| |||||||||||||||||||||||||||||||||||||||||||||||||||||||||||||||||||||||||||||||||||||||||||||||||||||||||||||||||||||||||||||||||||||||||||||||||||||||||||||||||||||||||||||||||||||||||\n",
            "TGGGCCTCATATTTCTCCTATATACCATGTTCGTATGGTGGCGCGATGTTCTACGTGAATCCACGTTCGAAGGACATCATACCAAAGTCGTACAATTAGGACCTCGATATGGTTTTATTCTGTTTATCGTATCGGAGGTTATGTTCTTTTTTGCTCTTTTTCGGGCTTCTTCTCATTCTTCTTTGGCACCTACGGTAGAG\n",
            "****ALIGNMENT****\n",
            "Sequence:  gi|1708294088|gb|MK490961.1| Physochlaina orientalis mitochondrion, complete genome\n",
            "Length:  684857\n",
            "e value:  2.47155e-94\n",
            "TGGGCCTCATATTTATCCTATATACCATGTTCGTATGGTGGCGCGATGTTCTACGTGAATCCACGTTCGAAGGACATCATACCAAAGTCGTACAATTAGGACCTCGATATGGTTTTATTCTGTTTATCGTATCGGAGGTTATGTTCTTTTTTGCTCTTTTTCGGGCTTCTTCTCATTCTTCTTTGGCACCTACGGTAGAG\n",
            "|||||||||||||| |||||||||||||||||||||||||||||||||||||||||||||||||||||||||||||||||||||||||||||||||||||||||||||||||||||||||||||||||||||||||||||||||||||||||||||||||||||||||||||||||||||||||||||||||||||||||\n",
            "TGGGCCTCATATTTCTCCTATATACCATGTTCGTATGGTGGCGCGATGTTCTACGTGAATCCACGTTCGAAGGACATCATACCAAAGTCGTACAATTAGGACCTCGATATGGTTTTATTCTGTTTATCGTATCGGAGGTTATGTTCTTTTTTGCTCTTTTTCGGGCTTCTTCTCATTCTTCTTTGGCACCTACGGTAGAG\n",
            "****ALIGNMENT****\n",
            "Sequence:  gi|1477772559|gb|CP025675.1| Ipomoea triloba cultivar NCNSP0323 chromosome 16\n",
            "Length:  18351525\n",
            "e value:  2.47155e-94\n",
            "TGGGCCTCATATTTATCCTATATACCATGTTCGTATGGTGGCGCGATGTTCTACGTGAATCCACGTTCGAAGGACATCATACCAAAGTCGTACAATTAGGACCTCGATATGGTTTTATTCTGTTTATCGTATCGGAGGTTATGTTCTTTTTTGCTCTTTTTCGGGCTTCTTCTCATTCTTCTTTGGCACCTACGGTAGAG\n",
            "||||||||||||||||||||||||||||||||||||||||||||||||||||||| ||||||||||||||||||||||||||||||||||||||||||||||||||||||||||||||||||||||||||||||||||||||||||||||||||||||||||||||||||||||||||||||||||||||||||||||||\n",
            "TGGGCCTCATATTTATCCTATATACCATGTTCGTATGGTGGCGCGATGTTCTACGCGAATCCACGTTCGAAGGACATCATACCAAAGTCGTACAATTAGGACCTCGATATGGTTTTATTCTGTTTATCGTATCGGAGGTTATGTTCTTTTTTGCTCTTTTTCGGGCTTCTTCTCATTCTTCTTTGGCACCTACGGTAGAG\n",
            "****ALIGNMENT****\n",
            "Sequence:  gi|1477772556|gb|CP025672.1| Ipomoea triloba cultivar NCNSP0323 chromosome 13\n",
            "Length:  32066333\n",
            "e value:  2.47155e-94\n",
            "TGGGCCTCATATTTATCCTATATACCATGTTCGTATGGTGGCGCGATGTTCTACGTGAATCCACGTTCGAAGGACATCATACCAAAGTCGTACAATTAGGACCTCGATATGGTTTTATTCTGTTTATCGTATCGGAGGTTATGTTCTTTTTTGCTCTTTTTCGGGCTTCTTCTCATTCTTCTTTGGCACCTACGGTAGAG\n",
            "||||||||||||||||||||||||||||||||||||||||||||||||||||||| ||||||||||||||||||||||||||||||||||||||||||||||||||||||||||||||||||||||||||||||||||||||||||||||||||||||||||||||||||||||||||||||||||||||||||||||||\n",
            "TGGGCCTCATATTTATCCTATATACCATGTTCGTATGGTGGCGCGATGTTCTACGCGAATCCACGTTCGAAGGACATCATACCAAAGTCGTACAATTAGGACCTCGATATGGTTTTATTCTGTTTATCGTATCGGAGGTTATGTTCTTTTTTGCTCTTTTTCGGGCTTCTTCTCATTCTTCTTTGGCACCTACGGTAGAG\n",
            "****ALIGNMENT****\n",
            "Sequence:  gi|1477772555|gb|CP025671.1| Ipomoea triloba cultivar NCNSP0323 chromosome 12\n",
            "Length:  28340316\n",
            "e value:  2.47155e-94\n",
            "TGGGCCTCATATTTATCCTATATACCATGTTCGTATGGTGGCGCGATGTTCTACGTGAATCCACGTTCGAAGGACATCATACCAAAGTCGTACAATTAGGACCTCGATATGGTTTTATTCTGTTTATCGTATCGGAGGTTATGTTCTTTTTTGCTCTTTTTCGGGCTTCTTCTCATTCTTCTTTGGCACCTACGGTAGAG\n",
            "||||||||||||||||||||||||||||||||||||||||||||||||||||||| ||||||||||||||||||||||||||||||||||||||||||||||||||||||||||||||||||||||||||||||||||||||||||||||||||||||||||||||||||||||||||||||||||||||||||||||||\n",
            "TGGGCCTCATATTTATCCTATATACCATGTTCGTATGGTGGCGCGATGTTCTACGCGAATCCACGTTCGAAGGACATCATACCAAAGTCGTACAATTAGGACCTCGATATGGTTTTATTCTGTTTATCGTATCGGAGGTTATGTTCTTTTTTGCTCTTTTTCGGGCTTCTTCTCATTCTTCTTTGGCACCTACGGTAGAG\n",
            "****ALIGNMENT****\n",
            "Sequence:  gi|1477772555|gb|CP025671.1| Ipomoea triloba cultivar NCNSP0323 chromosome 12\n",
            "Length:  28340316\n",
            "e value:  2.47155e-94\n",
            "TGGGCCTCATATTTATCCTATATACCATGTTCGTATGGTGGCGCGATGTTCTACGTGAATCCACGTTCGAAGGACATCATACCAAAGTCGTACAATTAGGACCTCGATATGGTTTTATTCTGTTTATCGTATCGGAGGTTATGTTCTTTTTTGCTCTTTTTCGGGCTTCTTCTCATTCTTCTTTGGCACCTACGGTAGAG\n",
            "||||||||||||||||||||||||||||||||||||||||||||||||||||||| ||||||||||||||||||||||||||||||||||||||||||||||||||||||||||||||||||||||||||||||||||||||||||||||||||||||||||||||||||||||||||||||||||||||||||||||||\n",
            "TGGGCCTCATATTTATCCTATATACCATGTTCGTATGGTGGCGCGATGTTCTACGCGAATCCACGTTCGAAGGACATCATACCAAAGTCGTACAATTAGGACCTCGATATGGTTTTATTCTGTTTATCGTATCGGAGGTTATGTTCTTTTTTGCTCTTTTTCGGGCTTCTTCTCATTCTTCTTTGGCACCTACGGTAGAG\n",
            "****ALIGNMENT****\n",
            "Sequence:  gi|1333448397|gb|MF989958.1| Solanum tuberosum chromosome 1 mitochondrion, complete sequence\n",
            "Length:  398439\n",
            "e value:  2.47155e-94\n",
            "TGGGCCTCATATTTATCCTATATACCATGTTCGTATGGTGGCGCGATGTTCTACGTGAATCCACGTTCGAAGGACATCATACCAAAGTCGTACAATTAGGACCTCGATATGGTTTTATTCTGTTTATCGTATCGGAGGTTATGTTCTTTTTTGCTCTTTTTCGGGCTTCTTCTCATTCTTCTTTGGCACCTACGGTAGAG\n",
            "|||||||||||||| |||||||||||||||||||||||||||||||||||||||||||||||||||||||||||||||||||||||||||||||||||||||||||||||||||||||||||||||||||||||||||||||||||||||||||||||||||||||||||||||||||||||||||||||||||||||||\n",
            "TGGGCCTCATATTTCTCCTATATACCATGTTCGTATGGTGGCGCGATGTTCTACGTGAATCCACGTTCGAAGGACATCATACCAAAGTCGTACAATTAGGACCTCGATATGGTTTTATTCTGTTTATCGTATCGGAGGTTATGTTCTTTTTTGCTCTTTTTCGGGCTTCTTCTCATTCTTCTTTGGCACCTACGGTAGAG\n",
            "****ALIGNMENT****\n",
            "Sequence:  gi|1333448363|gb|MF989955.1| Solanum tuberosum chromosome 3 mitochondrion, complete sequence\n",
            "Length:  112800\n",
            "e value:  2.47155e-94\n",
            "TGGGCCTCATATTTATCCTATATACCATGTTCGTATGGTGGCGCGATGTTCTACGTGAATCCACGTTCGAAGGACATCATACCAAAGTCGTACAATTAGGACCTCGATATGGTTTTATTCTGTTTATCGTATCGGAGGTTATGTTCTTTTTTGCTCTTTTTCGGGCTTCTTCTCATTCTTCTTTGGCACCTACGGTAGAG\n",
            "|||||||||||||| |||||||||||||||||||||||||||||||||||||||||||||||||||||||||||||||||||||||||||||||||||||||||||||||||||||||||||||||||||||||||||||||||||||||||||||||||||||||||||||||||||||||||||||||||||||||||\n",
            "TGGGCCTCATATTTCTCCTATATACCATGTTCGTATGGTGGCGCGATGTTCTACGTGAATCCACGTTCGAAGGACATCATACCAAAGTCGTACAATTAGGACCTCGATATGGTTTTATTCTGTTTATCGTATCGGAGGTTATGTTCTTTTTTGCTCTTTTTCGGGCTTCTTCTCATTCTTCTTTGGCACCTACGGTAGAG\n",
            "****ALIGNMENT****\n",
            "Sequence:  gi|1279120489|gb|MF989960.1| Solanum commersonii strain Lz3.2 chromosome 1 mitochondrion, complete sequence\n",
            "Length:  338427\n",
            "e value:  2.47155e-94\n",
            "TGGGCCTCATATTTATCCTATATACCATGTTCGTATGGTGGCGCGATGTTCTACGTGAATCCACGTTCGAAGGACATCATACCAAAGTCGTACAATTAGGACCTCGATATGGTTTTATTCTGTTTATCGTATCGGAGGTTATGTTCTTTTTTGCTCTTTTTCGGGCTTCTTCTCATTCTTCTTTGGCACCTACGGTAGAG\n",
            "|||||||||||||| |||||||||||||||||||||||||||||||||||||||||||||||||||||||||||||||||||||||||||||||||||||||||||||||||||||||||||||||||||||||||||||||||||||||||||||||||||||||||||||||||||||||||||||||||||||||||\n",
            "TGGGCCTCATATTTCTCCTATATACCATGTTCGTATGGTGGCGCGATGTTCTACGTGAATCCACGTTCGAAGGACATCATACCAAAGTCGTACAATTAGGACCTCGATATGGTTTTATTCTGTTTATCGTATCGGAGGTTATGTTCTTTTTTGCTCTTTTTCGGGCTTCTTCTCATTCTTCTTTGGCACCTACGGTAGAG\n",
            "****ALIGNMENT****\n",
            "Sequence:  gi|1273855328|gb|CP023756.1| Solanum lycopersicum cultivar I-3 chromosome 00\n",
            "Length:  21806743\n",
            "e value:  2.47155e-94\n",
            "TGGGCCTCATATTTATCCTATATACCATGTTCGTATGGTGGCGCGATGTTCTACGTGAATCCACGTTCGAAGGACATCATACCAAAGTCGTACAATTAGGACCTCGATATGGTTTTATTCTGTTTATCGTATCGGAGGTTATGTTCTTTTTTGCTCTTTTTCGGGCTTCTTCTCATTCTTCTTTGGCACCTACGGTAGAG\n",
            "|||||||||||||| |||||||||||||||||||||||||||||||||||||||||||||||||||||||||||||||||||||||||||||||||||||||||||||||||||||||||||||||||||||||||||||||||||||||||||||||||||||||||||||||||||||||||||||||||||||||||\n",
            "TGGGCCTCATATTTCTCCTATATACCATGTTCGTATGGTGGCGCGATGTTCTACGTGAATCCACGTTCGAAGGACATCATACCAAAGTCGTACAATTAGGACCTCGATATGGTTTTATTCTGTTTATCGTATCGGAGGTTATGTTCTTTTTTGCTCTTTTTCGGGCTTCTTCTCATTCTTCTTTGGCACCTACGGTAGAG\n",
            "****ALIGNMENT****\n",
            "Sequence:  gi|1244022692|gb|MF034194.1| Solanum pennellii bio-material TGRC:LA0716 mitochondrion, complete genome\n",
            "Length:  423596\n",
            "e value:  2.47155e-94\n",
            "TGGGCCTCATATTTATCCTATATACCATGTTCGTATGGTGGCGCGATGTTCTACGTGAATCCACGTTCGAAGGACATCATACCAAAGTCGTACAATTAGGACCTCGATATGGTTTTATTCTGTTTATCGTATCGGAGGTTATGTTCTTTTTTGCTCTTTTTCGGGCTTCTTCTCATTCTTCTTTGGCACCTACGGTAGAG\n",
            "|||||||||||||| |||||||||||||||||||||||||||||||||||||||||||||||||||||||||||||||||||||||||||||||||||||||||||||||||||||||||||||||||||||||||||||||||||||||||||||||||||||||||||||||||||||||||||||||||||||||||\n",
            "TGGGCCTCATATTTCTCCTATATACCATGTTCGTATGGTGGCGCGATGTTCTACGTGAATCCACGTTCGAAGGACATCATACCAAAGTCGTACAATTAGGACCTCGATATGGTTTTATTCTGTTTATCGTATCGGAGGTTATGTTCTTTTTTGCTCTTTTTCGGGCTTCTTCTCATTCTTCTTTGGCACCTACGGTAGAG\n",
            "****ALIGNMENT****\n",
            "Sequence:  gi|1244022647|gb|MF034193.1| Solanum lycopersicum bio-material TGRC:LA1479 mitochondrion, complete genome\n",
            "Length:  424423\n",
            "e value:  2.47155e-94\n",
            "TGGGCCTCATATTTATCCTATATACCATGTTCGTATGGTGGCGCGATGTTCTACGTGAATCCACGTTCGAAGGACATCATACCAAAGTCGTACAATTAGGACCTCGATATGGTTTTATTCTGTTTATCGTATCGGAGGTTATGTTCTTTTTTGCTCTTTTTCGGGCTTCTTCTCATTCTTCTTTGGCACCTACGGTAGAG\n",
            "|||||||||||||| |||||||||||||||||||||||||||||||||||||||||||||||||||||||||||||||||||||||||||||||||||||||||||||||||||||||||||||||||||||||||||||||||||||||||||||||||||||||||||||||||||||||||||||||||||||||||\n",
            "TGGGCCTCATATTTCTCCTATATACCATGTTCGTATGGTGGCGCGATGTTCTACGTGAATCCACGTTCGAAGGACATCATACCAAAGTCGTACAATTAGGACCTCGATATGGTTTTATTCTGTTTATCGTATCGGAGGTTATGTTCTTTTTTGCTCTTTTTCGGGCTTCTTCTCATTCTTCTTTGGCACCTACGGTAGAG\n",
            "****ALIGNMENT****\n",
            "Sequence:  gi|1244022607|gb|MF034192.1| Solanum lycopersicum bio-material TGRC:LA1421 mitochondrion, complete genome\n",
            "Length:  446257\n",
            "e value:  2.47155e-94\n",
            "TGGGCCTCATATTTATCCTATATACCATGTTCGTATGGTGGCGCGATGTTCTACGTGAATCCACGTTCGAAGGACATCATACCAAAGTCGTACAATTAGGACCTCGATATGGTTTTATTCTGTTTATCGTATCGGAGGTTATGTTCTTTTTTGCTCTTTTTCGGGCTTCTTCTCATTCTTCTTTGGCACCTACGGTAGAG\n",
            "|||||||||||||| |||||||||||||||||||||||||||||||||||||||||||||||||||||||||||||||||||||||||||||||||||||||||||||||||||||||||||||||||||||||||||||||||||||||||||||||||||||||||||||||||||||||||||||||||||||||||\n",
            "TGGGCCTCATATTTCTCCTATATACCATGTTCGTATGGTGGCGCGATGTTCTACGTGAATCCACGTTCGAAGGACATCATACCAAAGTCGTACAATTAGGACCTCGATATGGTTTTATTCTGTTTATCGTATCGGAGGTTATGTTCTTTTTTGCTCTTTTTCGGGCTTCTTCTCATTCTTCTTTGGCACCTACGGTAGAG\n",
            "****ALIGNMENT****\n",
            "Sequence:  gi|1061197232|dbj|AP017303.1| Ipomoea nil mitochondrial DNA, complete sequence, cultivar: Tokyo-kokei standard\n",
            "Length:  265768\n",
            "e value:  2.47155e-94\n",
            "TGGGCCTCATATTTATCCTATATACCATGTTCGTATGGTGGCGCGATGTTCTACGTGAATCCACGTTCGAAGGACATCATACCAAAGTCGTACAATTAGGACCTCGATATGGTTTTATTCTGTTTATCGTATCGGAGGTTATGTTCTTTTTTGCTCTTTTTCGGGCTTCTTCTCATTCTTCTTTGGCACCTACGGTAGAG\n",
            "||||||||||||||||||||||||||||||||||||||||||||||||||||||| ||||||||||||||||||||||||||||||||||||||||||||||||||||||||||||||||||||||||||||||||||||||||||||||||||||||||||||||||||||||||||||||||||||||||||||||||\n",
            "TGGGCCTCATATTTATCCTATATACCATGTTCGTATGGTGGCGCGATGTTCTACGCGAATCCACGTTCGAAGGACATCATACCAAAGTCGTACAATTAGGACCTCGATATGGTTTTATTCTGTTTATCGTATCGGAGGTTATGTTCTTTTTTGCTCTTTTTCGGGCTTCTTCTCATTCTTCTTTGGCACCTACGGTAGAG\n",
            "****ALIGNMENT****\n",
            "Sequence:  gi|916446290|gb|KT179384.1| Solanum triflorum voucher Aust 161 cytochrome c oxidase subunit 3 (coxIII) gene, complete cds; mitochondrial\n",
            "Length:  798\n",
            "e value:  2.47155e-94\n",
            "TGGGCCTCATATTTATCCTATATACCATGTTCGTATGGTGGCGCGATGTTCTACGTGAATCCACGTTCGAAGGACATCATACCAAAGTCGTACAATTAGGACCTCGATATGGTTTTATTCTGTTTATCGTATCGGAGGTTATGTTCTTTTTTGCTCTTTTTCGGGCTTCTTCTCATTCTTCTTTGGCACCTACGGTAGAG\n",
            "|||||||||||||| |||||||||||||||||||||||||||||||||||||||||||||||||||||||||||||||||||||||||||||||||||||||||||||||||||||||||||||||||||||||||||||||||||||||||||||||||||||||||||||||||||||||||||||||||||||||||\n",
            "TGGGCCTCATATTTCTCCTATATACCATGTTCGTATGGTGGCGCGATGTTCTACGTGAATCCACGTTCGAAGGACATCATACCAAAGTCGTACAATTAGGACCTCGATATGGTTTTATTCTGTTTATCGTATCGGAGGTTATGTTCTTTTTTGCTCTTTTTCGGGCTTCTTCTCATTCTTCTTTGGCACCTACGGTAGAG\n",
            "****ALIGNMENT****\n",
            "Sequence:  gi|1883211383|gb|MT122964.1| Solanum sisymbriifolium isolate NN15 chromosome 1 mitochondrion, complete sequence\n",
            "Length:  355004\n",
            "e value:  2.47155e-94\n",
            "TGGGCCTCATATTTATCCTATATACCATGTTCGTATGGTGGCGCGATGTTCTACGTGAATCCACGTTCGAAGGACATCATACCAAAGTCGTACAATTAGGACCTCGATATGGTTTTATTCTGTTTATCGTATCGGAGGTTATGTTCTTTTTTGCTCTTTTTCGGGCTTCTTCTCATTCTTCTTTGGCACCTACGGTAGAG\n",
            "|||||||||||||| |||||||||||||||||||||||||||||||||||||||||||||||||||||||||||||||||||||||||||||||||||||||||||||||||||||||||||||||||||||||||||||||||||||||||||||||||||||||||||||||||||||||||||||||||||||||||\n",
            "TGGGCCTCATATTTCTCCTATATACCATGTTCGTATGGTGGCGCGATGTTCTACGTGAATCCACGTTCGAAGGACATCATACCAAAGTCGTACAATTAGGACCTCGATATGGTTTTATTCTGTTTATCGTATCGGAGGTTATGTTCTTTTTTGCTCTTTTTCGGGCTTCTTCTCATTCTTCTTTGGCACCTACGGTAGAG\n",
            "****ALIGNMENT****\n",
            "Sequence:  gi|1883211185|gb|MT122958.1| Solanum wrightii isolate NN9 chromosome 1 mitochondrion, complete sequence\n",
            "Length:  294451\n",
            "e value:  2.47155e-94\n",
            "TGGGCCTCATATTTATCCTATATACCATGTTCGTATGGTGGCGCGATGTTCTACGTGAATCCACGTTCGAAGGACATCATACCAAAGTCGTACAATTAGGACCTCGATATGGTTTTATTCTGTTTATCGTATCGGAGGTTATGTTCTTTTTTGCTCTTTTTCGGGCTTCTTCTCATTCTTCTTTGGCACCTACGGTAGAG\n",
            "|||||||||||||| |||||||||||||||||||||||||||||||||||||||||||||||||||||||||||||||||||||||||||||||||||||||||||||||||||||||||||||||||||||||||||||||||||||||||||||||||||||||||||||||||||||||||||||||||||||||||\n",
            "TGGGCCTCATATTTCTCCTATATACCATGTTCGTATGGTGGCGCGATGTTCTACGTGAATCCACGTTCGAAGGACATCATACCAAAGTCGTACAATTAGGACCTCGATATGGTTTTATTCTGTTTATCGTATCGGAGGTTATGTTCTTTTTTGCTCTTTTTCGGGCTTCTTCTCATTCTTCTTTGGCACCTACGGTAGAG\n"
          ],
          "name": "stdout"
        }
      ]
    },
    {
      "cell_type": "code",
      "metadata": {
        "id": "mnf3qihzqNxe",
        "outputId": "bbc77d88-b455-43bd-82e6-c79592b921c7",
        "colab": {
          "base_uri": "https://localhost:8080/",
          "height": 55
        }
      },
      "source": [
        "#get reverse compliment of sequence\n",
        "from Bio.Seq import Seq\n",
        "my_seq = Seq(\"TGGGCCTCATATTTATCCTATATACCATGTTCGTATGGTGGCGCGATGTTCTACGTGAATCCACGTTCGAAGGACATCATACCAAAGTCGTACAATTAGGACCTCGATATGGTTTTATTCTGTTTATCGTATCGGAGGTTATGTTCTTTTTTGCTCTTTTTCGGGCTTCTTCTCATTCTTCTTTGGCACCTACGGTAGAG\")\n",
        "print('reverse complement is %s' % my_seq.reverse_complement())"
      ],
      "execution_count": null,
      "outputs": [
        {
          "output_type": "stream",
          "text": [
            "reverse complement is CTCTACCGTAGGTGCCAAAGAAGAATGAGAAGAAGCCCGAAAAAGAGCAAAAAAGAACATAACCTCCGATACGATAAACAGAATAAAACCATATCGAGGTCCTAATTGTACGACTTTGGTATGATGTCCTTCGAACGTGGATTCACGTAGAACATCGCGCCACCATACGAACATGGTATATAGGATAAATATGAGGCCCA\n"
          ],
          "name": "stdout"
        }
      ]
    },
    {
      "cell_type": "code",
      "metadata": {
        "id": "3V9MLQpIrSEW",
        "outputId": "2a347f6b-015d-49f1-cc51-be689858b873",
        "colab": {
          "base_uri": "https://localhost:8080/",
          "height": 89
        }
      },
      "source": [
        "#get protein translation\n",
        "my_seq = Seq(\"TGGGCCTCATATTTATCCTATATACCATGTTCGTATGGTGGCGCGATGTTCTACGTGAATCCACGTTCGAAGGACATCATACCAAAGTCGTACAATTAGGACCTCGATATGGTTTTATTCTGTTTATCGTATCGGAGGTTATGTTCTTTTTTGCTCTTTTTCGGGCTTCTTCTCATTCTTCTTTGGCACCTACGGTAGAG\")\n",
        "my_seq.translate()\n"
      ],
      "execution_count": null,
      "outputs": [
        {
          "output_type": "stream",
          "text": [
            "/usr/local/lib/python3.6/dist-packages/Bio/Seq.py:2338: BiopythonWarning: Partial codon, len(sequence) not a multiple of three. Explicitly trim the sequence or add trailing N before translation. This may become an error in future.\n",
            "  BiopythonWarning,\n"
          ],
          "name": "stderr"
        },
        {
          "output_type": "execute_result",
          "data": {
            "text/plain": [
              "Seq('WASYLSYIPCSYGGAMFYVNPRSKDIIPKSYN*DLDMVLFCLSYRRLCSFLLFF...LR*')"
            ]
          },
          "metadata": {
            "tags": []
          },
          "execution_count": 89
        }
      ]
    }
  ]
}