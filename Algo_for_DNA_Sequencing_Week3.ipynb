{
  "nbformat": 4,
  "nbformat_minor": 0,
  "metadata": {
    "colab": {
      "name": "Algo_for_DNA_Sequencing_Week3.ipynb",
      "provenance": [],
      "authorship_tag": "ABX9TyPKJaTN8mOgRkLq/K07gMHS",
      "include_colab_link": true
    },
    "kernelspec": {
      "name": "python3",
      "display_name": "Python 3"
    }
  },
  "cells": [
    {
      "cell_type": "markdown",
      "metadata": {
        "id": "view-in-github",
        "colab_type": "text"
      },
      "source": [
        "<a href=\"https://colab.research.google.com/github/dmbrundage88/genomic_datascience/blob/main/Algo_for_DNA_Sequencing_Week3.ipynb\" target=\"_parent\"><img src=\"https://colab.research.google.com/assets/colab-badge.svg\" alt=\"Open In Colab\"/></a>"
      ]
    },
    {
      "cell_type": "code",
      "metadata": {
        "id": "scmTmcr4iPG5",
        "outputId": "82e32b66-7e58-4678-efc2-1e6591fe03d0",
        "colab": {
          "base_uri": "https://localhost:8080/",
          "height": 208
        }
      },
      "source": [
        "!wget https://d28rh4a8wq0iu5.cloudfront.net/ads1/data/chr1.GRCh38.excerpt.fasta"
      ],
      "execution_count": 1,
      "outputs": [
        {
          "output_type": "stream",
          "text": [
            "--2020-10-16 21:55:33--  https://d28rh4a8wq0iu5.cloudfront.net/ads1/data/chr1.GRCh38.excerpt.fasta\n",
            "Resolving d28rh4a8wq0iu5.cloudfront.net (d28rh4a8wq0iu5.cloudfront.net)... 13.225.100.155, 13.225.100.4, 13.225.100.75, ...\n",
            "Connecting to d28rh4a8wq0iu5.cloudfront.net (d28rh4a8wq0iu5.cloudfront.net)|13.225.100.155|:443... connected.\n",
            "HTTP request sent, awaiting response... 200 OK\n",
            "Length: 810105 (791K) [application/octet-stream]\n",
            "Saving to: ‘chr1.GRCh38.excerpt.fasta’\n",
            "\n",
            "chr1.GRCh38.excerpt 100%[===================>] 791.12K   658KB/s    in 1.2s    \n",
            "\n",
            "2020-10-16 21:55:36 (658 KB/s) - ‘chr1.GRCh38.excerpt.fasta’ saved [810105/810105]\n",
            "\n"
          ],
          "name": "stdout"
        }
      ]
    },
    {
      "cell_type": "code",
      "metadata": {
        "id": "FgRGOUM7iba5"
      },
      "source": [
        "#Read Genome File and save to variable\n",
        "def readGenome(filename):\n",
        "    genome = ''\n",
        "    with open(filename, 'r') as f:\n",
        "        for line in f:\n",
        "            # ignore header line with genome information\n",
        "            if not line[0] == '>':\n",
        "                genome += line.rstrip()\n",
        "    return genome\n",
        "\n",
        "genome = readGenome('chr1.GRCh38.excerpt.fasta')"
      ],
      "execution_count": 2,
      "outputs": []
    },
    {
      "cell_type": "code",
      "metadata": {
        "id": "ASbu7FJZir6R"
      },
      "source": [
        "def editDistance(p, t):\n",
        "    # Create distance matrix\n",
        "    D = []\n",
        "    for i in range(len(p)+1):\n",
        "        D.append([0]*(len(t)+1))\n",
        "    # Initialize first row and column of matrix\n",
        "    for i in range(len(p)+1):\n",
        "        D[i][0] = i\n",
        "\n",
        "    # Fill in the rest of the matrix\n",
        "    for i in range(1, len(p)+1):\n",
        "        for j in range(1, len(t)+1):\n",
        "            distHor = D[i][j-1] + 1\n",
        "            distVer = D[i-1][j] + 1\n",
        "            if p[i-1] == t[j-1]:\n",
        "                distDiag = D[i-1][j-1]\n",
        "            else:\n",
        "                distDiag = D[i-1][j-1] + 1\n",
        "            D[i][j] = min(distHor, distVer, distDiag)\n",
        "    # Edit distance is the minimum value on the last row\n",
        "    return min(D[len(p)])"
      ],
      "execution_count": 3,
      "outputs": []
    },
    {
      "cell_type": "code",
      "metadata": {
        "id": "AJMbsUa-i9XR",
        "outputId": "ac1f78bf-fec4-4bea-a21e-78286ea8e448",
        "colab": {
          "base_uri": "https://localhost:8080/",
          "height": 35
        }
      },
      "source": [
        "p ='GATTTACCAGATTGAG'\n",
        "t=genome\n",
        "editDistance(p,t)"
      ],
      "execution_count": 5,
      "outputs": [
        {
          "output_type": "execute_result",
          "data": {
            "text/plain": [
              "2"
            ]
          },
          "metadata": {
            "tags": []
          },
          "execution_count": 5
        }
      ]
    },
    {
      "cell_type": "code",
      "metadata": {
        "id": "45mESbEpaj6X"
      },
      "source": [
        "def overlap(a, b, min_length=3):\n",
        "    \"\"\" Return length of longest suffix of 'a' matching\n",
        "        a prefix of 'b' that is at least 'min_length'\n",
        "        characters long.  If no such overlap exists,\n",
        "        return 0. \"\"\"\n",
        "    start = 0  # start all the way at the left\n",
        "    while True:\n",
        "        start = a.find(b[:min_length], start)  # look for b's prefix in a\n",
        "        if start == -1:  # no more occurrences to right\n",
        "            return 0\n",
        "        # found occurrence; check for full suffix/prefix match\n",
        "        if b.startswith(a[start:]):\n",
        "            return len(a)-start\n",
        "        start += 1  # move just past previous match"
      ],
      "execution_count": 6,
      "outputs": []
    },
    {
      "cell_type": "code",
      "metadata": {
        "id": "PL7elRFIbAyn",
        "outputId": "212ee3a3-71be-4730-bb93-daf446df63c2",
        "colab": {
          "base_uri": "https://localhost:8080/",
          "height": 208
        }
      },
      "source": [
        "!wget https://d28rh4a8wq0iu5.cloudfront.net/ads1/data/ERR266411_1.for_asm.fastq\n"
      ],
      "execution_count": 7,
      "outputs": [
        {
          "output_type": "stream",
          "text": [
            "--2020-10-16 21:59:14--  https://d28rh4a8wq0iu5.cloudfront.net/ads1/data/ERR266411_1.for_asm.fastq\n",
            "Resolving d28rh4a8wq0iu5.cloudfront.net (d28rh4a8wq0iu5.cloudfront.net)... 13.225.100.155, 13.225.100.4, 13.225.100.127, ...\n",
            "Connecting to d28rh4a8wq0iu5.cloudfront.net (d28rh4a8wq0iu5.cloudfront.net)|13.225.100.155|:443... connected.\n",
            "HTTP request sent, awaiting response... 200 OK\n",
            "Length: 2562951 (2.4M) [application/octet-stream]\n",
            "Saving to: ‘ERR266411_1.for_asm.fastq’\n",
            "\n",
            "ERR266411_1.for_asm 100%[===================>]   2.44M  1.47MB/s    in 1.7s    \n",
            "\n",
            "2020-10-16 21:59:16 (1.47 MB/s) - ‘ERR266411_1.for_asm.fastq’ saved [2562951/2562951]\n",
            "\n"
          ],
          "name": "stdout"
        }
      ]
    },
    {
      "cell_type": "code",
      "metadata": {
        "id": "DD5r8Q-NbLv5"
      },
      "source": [
        "#Read Fastq\n",
        "def readFastq(filename):\n",
        "    sequences = []\n",
        "    qualities = []\n",
        "    with open(filename) as fh:\n",
        "        while True:\n",
        "            fh.readline()  # skip name line\n",
        "            seq = fh.readline().rstrip()  # read base sequence\n",
        "            fh.readline()  # skip placeholder line\n",
        "            qual = fh.readline().rstrip() # base quality line\n",
        "            if len(seq) == 0:\n",
        "                break\n",
        "            sequences.append(seq)\n",
        "            qualities.append(qual)\n",
        "    return sequences, qualities\n",
        "  \n",
        "sequences, _ = readFastq('ERR266411_1.for_asm.fastq')"
      ],
      "execution_count": 9,
      "outputs": []
    },
    {
      "cell_type": "code",
      "metadata": {
        "id": "iehcJzpFbsSW"
      },
      "source": [
        "def overlap_graph(reads, k):\n",
        "    olaps = {}\n",
        "    result = {}\n",
        "    for read in reads:\n",
        "        for i in range(len(read)-k+1):\n",
        "            if read[i:i+k] not in olaps:\n",
        "                olaps[read[i:i+k]] = [read]\n",
        "            else:\n",
        "                olaps[read[i:i+k]].append(read)\n",
        "\n",
        "    count = 0\n",
        "    for read in reads:\n",
        "        read_suffix = read[-k:]\n",
        "        for possible_read in olaps[read_suffix]:\n",
        "            if possible_read != read:\n",
        "                olen = overlap(read, possible_read, k)\n",
        "                if olen > 0:\n",
        "                    count += 1\n",
        "                    result[(read, possible_read)] = olen\n",
        "\n",
        "    return olaps, result, count\n",
        "\n",
        "olaps, result, count = smart_overlap_map(sequences, 30)"
      ],
      "execution_count": 29,
      "outputs": []
    },
    {
      "cell_type": "code",
      "metadata": {
        "id": "IM2qjK8kefDx",
        "outputId": "86cb0e8b-16bc-4c23-b582-830a1929dfbc",
        "colab": {
          "base_uri": "https://localhost:8080/",
          "height": 35
        }
      },
      "source": [
        "count"
      ],
      "execution_count": 33,
      "outputs": [
        {
          "output_type": "execute_result",
          "data": {
            "text/plain": [
              "904746"
            ]
          },
          "metadata": {
            "tags": []
          },
          "execution_count": 33
        }
      ]
    }
  ]
}